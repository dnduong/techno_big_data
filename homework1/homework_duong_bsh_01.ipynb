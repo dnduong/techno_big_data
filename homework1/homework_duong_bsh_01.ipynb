{
 "cells": [
  {
   "cell_type": "markdown",
   "metadata": {
    "slideshow": {
     "slide_type": "slide"
    }
   },
   "source": [
    "# The `Titanic` dataset\n",
    "\n",
    "Go to the following `kaggle` webpage [https://www.kaggle.com/c/titanic/data](https://www.kaggle.com/c/titanic/data)\n",
    "\n",
    "If you don't have a `kaggle` account, create one.\n",
    "\n",
    "Download the `train.csv` dataset.\n",
    "\n",
    "Answer the following questions using the libraries `pandas`, `seaborn` and/or any other library that you like.\n",
    "We expect you to produce **nice looking plots**, at least **readable** and perform the required computations\n",
    " as concisely as possible using the `pandas` API. This is the way we will evaluate this homework.\n",
    "\n",
    "Before boarding on the homework, import (install them if needed)\n",
    "the next modules.\n",
    "\n",
    "\n"
   ]
  },
  {
   "cell_type": "code",
   "execution_count": 1,
   "metadata": {
    "ExecuteTime": {
     "end_time": "2020-02-23T14:40:43.211945Z",
     "start_time": "2020-02-23T14:40:40.019360Z"
    },
    "autoscroll": "auto",
    "options": {
     "caption": false,
     "complete": true,
     "display_data": true,
     "display_stream": true,
     "dpi": 200,
     "echo": true,
     "evaluate": false,
     "f_env": null,
     "f_pos": "htpb",
     "f_size": [
      6,
      4
     ],
     "f_spines": true,
     "fig": true,
     "include": true,
     "name": null,
     "option_string": "evaluate=False",
     "results": "verbatim",
     "term": false,
     "wrap": "output"
    },
    "slideshow": {
     "slide_type": "subslide"
    }
   },
   "outputs": [],
   "source": [
    "import numpy as np\n",
    "import pandas as pd\n",
    "\n",
    "%matplotlib inline\n",
    "import matplotlib.pyplot as plt\n",
    "import seaborn as sns\n",
    "#import pdpipe as pdp\n",
    "\n",
    "import requests\n",
    "\n",
    "import re\n",
    "import os\n",
    "from collections import namedtuple\n",
    "from collections import abc\n",
    "from statsmodels.graphics.mosaicplot import mosaic\n",
    "\n",
    "sns.set_context(\"notebook\", font_scale=1.2)"
   ]
  },
  {
   "cell_type": "markdown",
   "metadata": {
    "slideshow": {
     "slide_type": "slide"
    }
   },
   "source": [
    "The first thing to do is to read the description of\n",
    "the columns and understand what the dataset is about and what it contains.\n",
    "\n",
    "## Question : inspecting a DataFrame\n",
    "\n",
    "Open the dataframe with `pandas`, check the first lines of the dataset\n",
    "\n",
    "### Answer"
   ]
  },
  {
   "cell_type": "code",
   "execution_count": 2,
   "metadata": {
    "ExecuteTime": {
     "end_time": "2020-02-23T14:40:43.318510Z",
     "start_time": "2020-02-23T14:40:43.225810Z"
    },
    "autoscroll": "auto",
    "options": {
     "caption": false,
     "complete": true,
     "display_data": true,
     "display_stream": true,
     "dpi": 200,
     "echo": true,
     "evaluate": false,
     "f_env": null,
     "f_pos": "htpb",
     "f_size": [
      6,
      4
     ],
     "f_spines": true,
     "fig": true,
     "include": true,
     "name": null,
     "option_string": "evaluate=False",
     "results": "verbatim",
     "term": false,
     "wrap": "output"
    },
    "slideshow": {
     "slide_type": "subslide"
    }
   },
   "outputs": [
    {
     "data": {
      "text/html": [
       "<div>\n",
       "<style scoped>\n",
       "    .dataframe tbody tr th:only-of-type {\n",
       "        vertical-align: middle;\n",
       "    }\n",
       "\n",
       "    .dataframe tbody tr th {\n",
       "        vertical-align: top;\n",
       "    }\n",
       "\n",
       "    .dataframe thead th {\n",
       "        text-align: right;\n",
       "    }\n",
       "</style>\n",
       "<table border=\"1\" class=\"dataframe\">\n",
       "  <thead>\n",
       "    <tr style=\"text-align: right;\">\n",
       "      <th></th>\n",
       "      <th>PassengerId</th>\n",
       "      <th>Survived</th>\n",
       "      <th>Pclass</th>\n",
       "      <th>Name</th>\n",
       "      <th>Sex</th>\n",
       "      <th>Age</th>\n",
       "      <th>SibSp</th>\n",
       "      <th>Parch</th>\n",
       "      <th>Ticket</th>\n",
       "      <th>Fare</th>\n",
       "      <th>Cabin</th>\n",
       "      <th>Embarked</th>\n",
       "    </tr>\n",
       "  </thead>\n",
       "  <tbody>\n",
       "    <tr>\n",
       "      <td>0</td>\n",
       "      <td>1</td>\n",
       "      <td>0</td>\n",
       "      <td>3</td>\n",
       "      <td>Braund, Mr. Owen Harris</td>\n",
       "      <td>male</td>\n",
       "      <td>22.0</td>\n",
       "      <td>1</td>\n",
       "      <td>0</td>\n",
       "      <td>A/5 21171</td>\n",
       "      <td>7.2500</td>\n",
       "      <td>NaN</td>\n",
       "      <td>S</td>\n",
       "    </tr>\n",
       "    <tr>\n",
       "      <td>1</td>\n",
       "      <td>2</td>\n",
       "      <td>1</td>\n",
       "      <td>1</td>\n",
       "      <td>Cumings, Mrs. John Bradley (Florence Briggs Th...</td>\n",
       "      <td>female</td>\n",
       "      <td>38.0</td>\n",
       "      <td>1</td>\n",
       "      <td>0</td>\n",
       "      <td>PC 17599</td>\n",
       "      <td>71.2833</td>\n",
       "      <td>C85</td>\n",
       "      <td>C</td>\n",
       "    </tr>\n",
       "    <tr>\n",
       "      <td>2</td>\n",
       "      <td>3</td>\n",
       "      <td>1</td>\n",
       "      <td>3</td>\n",
       "      <td>Heikkinen, Miss. Laina</td>\n",
       "      <td>female</td>\n",
       "      <td>26.0</td>\n",
       "      <td>0</td>\n",
       "      <td>0</td>\n",
       "      <td>STON/O2. 3101282</td>\n",
       "      <td>7.9250</td>\n",
       "      <td>NaN</td>\n",
       "      <td>S</td>\n",
       "    </tr>\n",
       "    <tr>\n",
       "      <td>3</td>\n",
       "      <td>4</td>\n",
       "      <td>1</td>\n",
       "      <td>1</td>\n",
       "      <td>Futrelle, Mrs. Jacques Heath (Lily May Peel)</td>\n",
       "      <td>female</td>\n",
       "      <td>35.0</td>\n",
       "      <td>1</td>\n",
       "      <td>0</td>\n",
       "      <td>113803</td>\n",
       "      <td>53.1000</td>\n",
       "      <td>C123</td>\n",
       "      <td>S</td>\n",
       "    </tr>\n",
       "    <tr>\n",
       "      <td>4</td>\n",
       "      <td>5</td>\n",
       "      <td>0</td>\n",
       "      <td>3</td>\n",
       "      <td>Allen, Mr. William Henry</td>\n",
       "      <td>male</td>\n",
       "      <td>35.0</td>\n",
       "      <td>0</td>\n",
       "      <td>0</td>\n",
       "      <td>373450</td>\n",
       "      <td>8.0500</td>\n",
       "      <td>NaN</td>\n",
       "      <td>S</td>\n",
       "    </tr>\n",
       "  </tbody>\n",
       "</table>\n",
       "</div>"
      ],
      "text/plain": [
       "   PassengerId  Survived  Pclass  \\\n",
       "0            1         0       3   \n",
       "1            2         1       1   \n",
       "2            3         1       3   \n",
       "3            4         1       1   \n",
       "4            5         0       3   \n",
       "\n",
       "                                                Name     Sex   Age  SibSp  \\\n",
       "0                            Braund, Mr. Owen Harris    male  22.0      1   \n",
       "1  Cumings, Mrs. John Bradley (Florence Briggs Th...  female  38.0      1   \n",
       "2                             Heikkinen, Miss. Laina  female  26.0      0   \n",
       "3       Futrelle, Mrs. Jacques Heath (Lily May Peel)  female  35.0      1   \n",
       "4                           Allen, Mr. William Henry    male  35.0      0   \n",
       "\n",
       "   Parch            Ticket     Fare Cabin Embarked  \n",
       "0      0         A/5 21171   7.2500   NaN        S  \n",
       "1      0          PC 17599  71.2833   C85        C  \n",
       "2      0  STON/O2. 3101282   7.9250   NaN        S  \n",
       "3      0            113803  53.1000  C123        S  \n",
       "4      0            373450   8.0500   NaN        S  "
      ]
     },
     "execution_count": 2,
     "metadata": {},
     "output_type": "execute_result"
    }
   ],
   "source": [
    "df_train = pd.read_csv('train.csv')\n",
    "df_train.head()"
   ]
  },
  {
   "cell_type": "markdown",
   "metadata": {
    "slideshow": {
     "slide_type": "subslide"
    }
   },
   "source": [
    "\n",
    "Method `info`  print a a concise summary of a `DataFrame`.\n",
    "With optional parameter `memory_usage`, you can get an estimate\n",
    "of the amount of memory used by the `DataFrame`. Beware that\n",
    "the resulting estimate depends on the argument fed.\n",
    "\n"
   ]
  },
  {
   "cell_type": "code",
   "execution_count": 3,
   "metadata": {
    "ExecuteTime": {
     "end_time": "2020-02-23T14:40:43.377848Z",
     "start_time": "2020-02-23T14:40:43.332962Z"
    },
    "autoscroll": "auto",
    "options": {
     "caption": false,
     "complete": true,
     "display_data": true,
     "display_stream": true,
     "dpi": 200,
     "echo": true,
     "evaluate": false,
     "f_env": null,
     "f_pos": "htpb",
     "f_size": [
      6,
      4
     ],
     "f_spines": true,
     "fig": true,
     "include": true,
     "name": null,
     "option_string": "evaluate=False",
     "results": "verbatim",
     "term": false,
     "wrap": "output"
    },
    "slideshow": {
     "slide_type": "subslide"
    }
   },
   "outputs": [
    {
     "name": "stdout",
     "output_type": "stream",
     "text": [
      "<class 'pandas.core.frame.DataFrame'>\n",
      "RangeIndex: 891 entries, 0 to 890\n",
      "Data columns (total 12 columns):\n",
      "PassengerId    891 non-null int64\n",
      "Survived       891 non-null int64\n",
      "Pclass         891 non-null int64\n",
      "Name           891 non-null object\n",
      "Sex            891 non-null object\n",
      "Age            714 non-null float64\n",
      "SibSp          891 non-null int64\n",
      "Parch          891 non-null int64\n",
      "Ticket         891 non-null object\n",
      "Fare           891 non-null float64\n",
      "Cabin          204 non-null object\n",
      "Embarked       889 non-null object\n",
      "dtypes: float64(2), int64(5), object(5)\n",
      "memory usage: 83.7+ KB\n"
     ]
    }
   ],
   "source": [
    "df_train.info(memory_usage = True)"
   ]
  },
  {
   "cell_type": "markdown",
   "metadata": {
    "slideshow": {
     "slide_type": "slide"
    }
   },
   "source": [
    "\n",
    "## Question: Checking the types of columns\n",
    "\n",
    "Check the types of the columns.\n",
    "\n",
    "- How do you obtain the type of a column?\n",
    "- How do you obtain the datatype (`dtype`) of elements of a column?\n",
    "\n",
    "### Answer\n",
    "\n"
   ]
  },
  {
   "cell_type": "code",
   "execution_count": 4,
   "metadata": {
    "ExecuteTime": {
     "end_time": "2020-02-23T14:40:43.426292Z",
     "start_time": "2020-02-23T14:40:43.393808Z"
    },
    "autoscroll": "auto",
    "options": {
     "caption": false,
     "complete": true,
     "display_data": true,
     "display_stream": true,
     "dpi": 200,
     "echo": true,
     "evaluate": false,
     "f_env": null,
     "f_pos": "htpb",
     "f_size": [
      6,
      4
     ],
     "f_spines": true,
     "fig": true,
     "include": true,
     "name": null,
     "option_string": "evaluate=False",
     "results": "verbatim",
     "term": false,
     "wrap": "output"
    },
    "slideshow": {
     "slide_type": "subslide"
    }
   },
   "outputs": [
    {
     "name": "stdout",
     "output_type": "stream",
     "text": [
      "PassengerId      int64\n",
      "Survived         int64\n",
      "Pclass           int64\n",
      "Name            object\n",
      "Sex             object\n",
      "Age            float64\n",
      "SibSp            int64\n",
      "Parch            int64\n",
      "Ticket          object\n",
      "Fare           float64\n",
      "Cabin           object\n",
      "Embarked        object\n",
      "dtype: object\n",
      "int64\n"
     ]
    }
   ],
   "source": [
    "print(df_train.dtypes)\n",
    "print(df_train['PassengerId'].dtypes)"
   ]
  },
  {
   "cell_type": "markdown",
   "metadata": {
    "slideshow": {
     "slide_type": "slide"
    }
   },
   "source": [
    "## Question: selecting columns according to datatype\n",
    "\n",
    "Project (in the SQL sense)  the DataFrame on columns with a specified datatype.\n",
    "For example, project (as in the SQL `SELECT`)\n",
    "the Titanic `DataFrame` on the  numerical columns.\n",
    "\n",
    "Hint: method `select_dtypes`\n",
    "\n",
    "### Answer\n"
   ]
  },
  {
   "cell_type": "code",
   "execution_count": 5,
   "metadata": {
    "ExecuteTime": {
     "end_time": "2020-02-23T14:40:43.547889Z",
     "start_time": "2020-02-23T14:40:43.443324Z"
    }
   },
   "outputs": [
    {
     "data": {
      "text/html": [
       "<div>\n",
       "<style scoped>\n",
       "    .dataframe tbody tr th:only-of-type {\n",
       "        vertical-align: middle;\n",
       "    }\n",
       "\n",
       "    .dataframe tbody tr th {\n",
       "        vertical-align: top;\n",
       "    }\n",
       "\n",
       "    .dataframe thead th {\n",
       "        text-align: right;\n",
       "    }\n",
       "</style>\n",
       "<table border=\"1\" class=\"dataframe\">\n",
       "  <thead>\n",
       "    <tr style=\"text-align: right;\">\n",
       "      <th></th>\n",
       "      <th>PassengerId</th>\n",
       "      <th>Survived</th>\n",
       "      <th>Pclass</th>\n",
       "      <th>Age</th>\n",
       "      <th>SibSp</th>\n",
       "      <th>Parch</th>\n",
       "      <th>Fare</th>\n",
       "    </tr>\n",
       "  </thead>\n",
       "  <tbody>\n",
       "    <tr>\n",
       "      <td>0</td>\n",
       "      <td>1</td>\n",
       "      <td>0</td>\n",
       "      <td>3</td>\n",
       "      <td>22.0</td>\n",
       "      <td>1</td>\n",
       "      <td>0</td>\n",
       "      <td>7.2500</td>\n",
       "    </tr>\n",
       "    <tr>\n",
       "      <td>1</td>\n",
       "      <td>2</td>\n",
       "      <td>1</td>\n",
       "      <td>1</td>\n",
       "      <td>38.0</td>\n",
       "      <td>1</td>\n",
       "      <td>0</td>\n",
       "      <td>71.2833</td>\n",
       "    </tr>\n",
       "    <tr>\n",
       "      <td>2</td>\n",
       "      <td>3</td>\n",
       "      <td>1</td>\n",
       "      <td>3</td>\n",
       "      <td>26.0</td>\n",
       "      <td>0</td>\n",
       "      <td>0</td>\n",
       "      <td>7.9250</td>\n",
       "    </tr>\n",
       "    <tr>\n",
       "      <td>3</td>\n",
       "      <td>4</td>\n",
       "      <td>1</td>\n",
       "      <td>1</td>\n",
       "      <td>35.0</td>\n",
       "      <td>1</td>\n",
       "      <td>0</td>\n",
       "      <td>53.1000</td>\n",
       "    </tr>\n",
       "    <tr>\n",
       "      <td>4</td>\n",
       "      <td>5</td>\n",
       "      <td>0</td>\n",
       "      <td>3</td>\n",
       "      <td>35.0</td>\n",
       "      <td>0</td>\n",
       "      <td>0</td>\n",
       "      <td>8.0500</td>\n",
       "    </tr>\n",
       "    <tr>\n",
       "      <td>...</td>\n",
       "      <td>...</td>\n",
       "      <td>...</td>\n",
       "      <td>...</td>\n",
       "      <td>...</td>\n",
       "      <td>...</td>\n",
       "      <td>...</td>\n",
       "      <td>...</td>\n",
       "    </tr>\n",
       "    <tr>\n",
       "      <td>886</td>\n",
       "      <td>887</td>\n",
       "      <td>0</td>\n",
       "      <td>2</td>\n",
       "      <td>27.0</td>\n",
       "      <td>0</td>\n",
       "      <td>0</td>\n",
       "      <td>13.0000</td>\n",
       "    </tr>\n",
       "    <tr>\n",
       "      <td>887</td>\n",
       "      <td>888</td>\n",
       "      <td>1</td>\n",
       "      <td>1</td>\n",
       "      <td>19.0</td>\n",
       "      <td>0</td>\n",
       "      <td>0</td>\n",
       "      <td>30.0000</td>\n",
       "    </tr>\n",
       "    <tr>\n",
       "      <td>888</td>\n",
       "      <td>889</td>\n",
       "      <td>0</td>\n",
       "      <td>3</td>\n",
       "      <td>NaN</td>\n",
       "      <td>1</td>\n",
       "      <td>2</td>\n",
       "      <td>23.4500</td>\n",
       "    </tr>\n",
       "    <tr>\n",
       "      <td>889</td>\n",
       "      <td>890</td>\n",
       "      <td>1</td>\n",
       "      <td>1</td>\n",
       "      <td>26.0</td>\n",
       "      <td>0</td>\n",
       "      <td>0</td>\n",
       "      <td>30.0000</td>\n",
       "    </tr>\n",
       "    <tr>\n",
       "      <td>890</td>\n",
       "      <td>891</td>\n",
       "      <td>0</td>\n",
       "      <td>3</td>\n",
       "      <td>32.0</td>\n",
       "      <td>0</td>\n",
       "      <td>0</td>\n",
       "      <td>7.7500</td>\n",
       "    </tr>\n",
       "  </tbody>\n",
       "</table>\n",
       "<p>891 rows × 7 columns</p>\n",
       "</div>"
      ],
      "text/plain": [
       "     PassengerId  Survived  Pclass   Age  SibSp  Parch     Fare\n",
       "0              1         0       3  22.0      1      0   7.2500\n",
       "1              2         1       1  38.0      1      0  71.2833\n",
       "2              3         1       3  26.0      0      0   7.9250\n",
       "3              4         1       1  35.0      1      0  53.1000\n",
       "4              5         0       3  35.0      0      0   8.0500\n",
       "..           ...       ...     ...   ...    ...    ...      ...\n",
       "886          887         0       2  27.0      0      0  13.0000\n",
       "887          888         1       1  19.0      0      0  30.0000\n",
       "888          889         0       3   NaN      1      2  23.4500\n",
       "889          890         1       1  26.0      0      0  30.0000\n",
       "890          891         0       3  32.0      0      0   7.7500\n",
       "\n",
       "[891 rows x 7 columns]"
      ]
     },
     "execution_count": 5,
     "metadata": {},
     "output_type": "execute_result"
    }
   ],
   "source": [
    "df_train.select_dtypes(include='number')"
   ]
  },
  {
   "cell_type": "markdown",
   "metadata": {
    "slideshow": {
     "slide_type": "slide"
    }
   },
   "source": [
    "\n",
    "## Question: computing number of distinct values in each column\n",
    "\n",
    "For each column with non-numerical datatype compute the number of unique values\n",
    "in the column.\n",
    "\n",
    "### Answer\n",
    "\n"
   ]
  },
  {
   "cell_type": "code",
   "execution_count": 6,
   "metadata": {
    "ExecuteTime": {
     "end_time": "2020-02-23T14:40:43.619122Z",
     "start_time": "2020-02-23T14:40:43.559315Z"
    },
    "autoscroll": "auto",
    "options": {
     "caption": false,
     "complete": true,
     "display_data": true,
     "display_stream": true,
     "dpi": 200,
     "echo": true,
     "evaluate": false,
     "f_env": null,
     "f_pos": "htpb",
     "f_size": [
      6,
      4
     ],
     "f_spines": true,
     "fig": true,
     "include": true,
     "name": null,
     "option_string": "evaluate=False",
     "results": "verbatim",
     "term": false,
     "wrap": "output"
    },
    "slideshow": {
     "slide_type": "subslide"
    }
   },
   "outputs": [
    {
     "data": {
      "text/plain": [
       "Name        891\n",
       "Sex           2\n",
       "Ticket      681\n",
       "Cabin       147\n",
       "Embarked      3\n",
       "dtype: int64"
      ]
     },
     "execution_count": 6,
     "metadata": {},
     "output_type": "execute_result"
    }
   ],
   "source": [
    "df_train.select_dtypes(exclude='number').nunique()"
   ]
  },
  {
   "cell_type": "markdown",
   "metadata": {
    "slideshow": {
     "slide_type": "slide"
    }
   },
   "source": [
    "\n",
    "## Question: spotting categorical columns\n",
    "\n",
    "What are the indices and column names of columns\n",
    "with less than `10` distinct vakues ?\n",
    "\n",
    "### Answer\n",
    "\n"
   ]
  },
  {
   "cell_type": "code",
   "execution_count": 7,
   "metadata": {
    "ExecuteTime": {
     "end_time": "2020-02-23T14:40:43.692775Z",
     "start_time": "2020-02-23T14:40:43.634583Z"
    },
    "autoscroll": "auto",
    "options": {
     "caption": false,
     "complete": true,
     "display_data": true,
     "display_stream": true,
     "dpi": 200,
     "echo": true,
     "evaluate": false,
     "f_env": null,
     "f_pos": "htpb",
     "f_size": [
      6,
      4
     ],
     "f_spines": true,
     "fig": true,
     "include": true,
     "name": null,
     "option_string": "evaluate=False",
     "results": "verbatim",
     "term": false,
     "wrap": "output"
    },
    "slideshow": {
     "slide_type": "subslide"
    }
   },
   "outputs": [
    {
     "name": "stdout",
     "output_type": "stream",
     "text": [
      "1 Survived\n",
      "2 Pclass\n",
      "4 Sex\n",
      "6 SibSp\n",
      "7 Parch\n",
      "11 Embarked\n"
     ]
    }
   ],
   "source": [
    "df_col = df_train.columns \n",
    "for col in (df_col):\n",
    "    if df_train[col].nunique() < 10:\n",
    "        print(df_col.get_loc(col),col)"
   ]
  },
  {
   "cell_type": "markdown",
   "metadata": {
    "slideshow": {
     "slide_type": "slide"
    }
   },
   "source": [
    "\n",
    "## Question: coercing column datatypes\n",
    "\n",
    "- `Name` should be of type `string`\n",
    "- `Sex` is a categorical variable with values `Female, Male, None`\n",
    "- `Embarked` is a categorical variable with values `Cherbourg, Southampton, ..., None`\n",
    "- `Ticket` should be a string\n",
    "- `Cabin` should be a string\n",
    "- `Survived` should be of type `bool`\n",
    "- `Pclass` is a categorical variable (ordered)\n",
    "- `Sibsp` could a categorical variable (ordered)\n",
    "- `Parch` could a categorical variable (ordered)\n",
    "\n",
    "Attempt to automatically infer better types fails.\n",
    "\n",
    "                "
   ]
  },
  {
   "cell_type": "markdown",
   "metadata": {
    "slideshow": {
     "slide_type": "subslide"
    }
   },
   "source": [
    "\n",
    "### Answer\n",
    "\n"
   ]
  },
  {
   "cell_type": "code",
   "execution_count": 8,
   "metadata": {
    "ExecuteTime": {
     "end_time": "2020-02-23T14:40:43.793929Z",
     "start_time": "2020-02-23T14:40:43.712787Z"
    },
    "autoscroll": "auto",
    "options": {
     "caption": false,
     "complete": true,
     "display_data": true,
     "display_stream": true,
     "dpi": 200,
     "echo": true,
     "evaluate": false,
     "f_env": null,
     "f_pos": "htpb",
     "f_size": [
      6,
      4
     ],
     "f_spines": true,
     "fig": true,
     "include": true,
     "name": null,
     "option_string": "evaluate=False",
     "results": "verbatim",
     "term": false,
     "wrap": "output"
    },
    "slideshow": {
     "slide_type": "subslide"
    }
   },
   "outputs": [
    {
     "data": {
      "text/plain": [
       "PassengerId       int64\n",
       "Survived           bool\n",
       "Pclass         category\n",
       "Name             object\n",
       "Sex            category\n",
       "Age             float64\n",
       "SibSp          category\n",
       "Parch          category\n",
       "Ticket           object\n",
       "Fare            float64\n",
       "Cabin            object\n",
       "Embarked       category\n",
       "dtype: object"
      ]
     },
     "execution_count": 8,
     "metadata": {},
     "output_type": "execute_result"
    }
   ],
   "source": [
    "df_train[['Name','Ticket','Cabin']] = df_train[['Name','Ticket','Cabin']].astype('str')\n",
    "\n",
    "df_train[['Sex','Embarked']] = df_train[['Sex','Embarked']].astype('category')\n",
    "\n",
    "df_train['Survived'] = df_train['Survived'].astype('bool')\n",
    "\n",
    "for col in ['Pclass','SibSp','Parch']:\n",
    "    df_train[col] = pd.Categorical(df_train[col], ordered = True)\n",
    "\n",
    "df_train.dtypes"
   ]
  },
  {
   "cell_type": "markdown",
   "metadata": {
    "slideshow": {
     "slide_type": "slide"
    }
   },
   "source": [
    "\n",
    "## Question: coercing column datatypes\n",
    "\n",
    "All suspicious columns could be converted to `category`.\n",
    "Some of the categories have to be ordered.\n",
    "\n",
    "\n",
    "### Answer\n"
   ]
  },
  {
   "cell_type": "code",
   "execution_count": null,
   "metadata": {
    "ExecuteTime": {
     "end_time": "2020-02-18T15:00:23.074790Z",
     "start_time": "2020-02-18T15:00:23.021254Z"
    },
    "autoscroll": "auto",
    "options": {
     "caption": false,
     "complete": true,
     "display_data": true,
     "display_stream": true,
     "dpi": 200,
     "echo": true,
     "evaluate": false,
     "f_env": null,
     "f_pos": "htpb",
     "f_size": [
      6,
      4
     ],
     "f_spines": true,
     "fig": true,
     "include": true,
     "name": null,
     "option_string": "evaluate=False",
     "results": "verbatim",
     "term": false,
     "wrap": "output"
    },
    "slideshow": {
     "slide_type": "subslide"
    }
   },
   "outputs": [],
   "source": []
  },
  {
   "cell_type": "markdown",
   "metadata": {
    "slideshow": {
     "slide_type": "slide"
    }
   },
   "source": [
    "\n",
    "## Question: categorizing columns using functions\n",
    "\n",
    "Define a function that takes as arguments a `Dataframe` and a list of\n",
    "of column names and attempts to cast the corresponding columns to 'category'.\n",
    "\n",
    "### Answer\n",
    "\n",
    "\n"
   ]
  },
  {
   "cell_type": "code",
   "execution_count": 9,
   "metadata": {
    "ExecuteTime": {
     "end_time": "2020-02-23T14:40:43.842487Z",
     "start_time": "2020-02-23T14:40:43.809881Z"
    }
   },
   "outputs": [
    {
     "data": {
      "text/plain": [
       "PassengerId       int64\n",
       "Survived           bool\n",
       "Pclass         category\n",
       "Name             object\n",
       "Sex            category\n",
       "Age             float64\n",
       "SibSp          category\n",
       "Parch          category\n",
       "Ticket           object\n",
       "Fare            float64\n",
       "Cabin            object\n",
       "Embarked       category\n",
       "dtype: object"
      ]
     },
     "execution_count": 9,
     "metadata": {},
     "output_type": "execute_result"
    }
   ],
   "source": [
    "df_train.dtypes"
   ]
  },
  {
   "cell_type": "code",
   "execution_count": 10,
   "metadata": {
    "ExecuteTime": {
     "end_time": "2020-02-23T14:40:43.895834Z",
     "start_time": "2020-02-23T14:40:43.852196Z"
    },
    "autoscroll": "auto",
    "options": {
     "caption": false,
     "complete": true,
     "display_data": true,
     "display_stream": true,
     "dpi": 200,
     "echo": true,
     "evaluate": false,
     "f_env": null,
     "f_pos": "htpb",
     "f_size": [
      6,
      4
     ],
     "f_spines": true,
     "fig": true,
     "include": true,
     "name": null,
     "option_string": "evaluate=False",
     "results": "verbatim",
     "term": false,
     "wrap": "output"
    },
    "slideshow": {
     "slide_type": "subslide"
    }
   },
   "outputs": [
    {
     "data": {
      "text/plain": [
       "PassengerId       int64\n",
       "Survived           bool\n",
       "Pclass         category\n",
       "Name             object\n",
       "Sex            category\n",
       "Age             float64\n",
       "SibSp          category\n",
       "Parch          category\n",
       "Ticket           object\n",
       "Fare            float64\n",
       "Cabin            object\n",
       "Embarked       category\n",
       "dtype: object"
      ]
     },
     "execution_count": 10,
     "metadata": {},
     "output_type": "execute_result"
    }
   ],
   "source": [
    "def categorize(df,colnames):\n",
    "    for col in colnames :\n",
    "        df[col] = pd.Categorical(df[col])\n",
    "\n",
    "categorize(df_train,['Sex','Embarked'])\n",
    "df_train.dtypes"
   ]
  },
  {
   "cell_type": "markdown",
   "metadata": {
    "slideshow": {
     "slide_type": "slide"
    }
   },
   "source": [
    "\n",
    "## Question: enforcing datatypes at loading time\n",
    "\n",
    "\n",
    "Function `read_csv` from `Pandas` has many optional keyword arguments that\n",
    "can be used to tweak the resulting `Dataframe` during (or just after load).\n",
    "\n",
    "Improve your import of the data: for instance,\n",
    "categorical columns (a column with a small number of modalities)\n",
    "should have the `category` type.\n",
    "\n",
    "### Answer\n"
   ]
  },
  {
   "cell_type": "code",
   "execution_count": 11,
   "metadata": {
    "ExecuteTime": {
     "end_time": "2020-02-23T14:40:43.962688Z",
     "start_time": "2020-02-23T14:40:43.908924Z"
    }
   },
   "outputs": [
    {
     "data": {
      "text/plain": [
       "PassengerId    891\n",
       "Survived         2\n",
       "Pclass           3\n",
       "Name           891\n",
       "Sex              2\n",
       "Age             88\n",
       "SibSp            7\n",
       "Parch            7\n",
       "Ticket         681\n",
       "Fare           248\n",
       "Cabin          148\n",
       "Embarked         3\n",
       "dtype: int64"
      ]
     },
     "execution_count": 11,
     "metadata": {},
     "output_type": "execute_result"
    }
   ],
   "source": [
    "df_train.nunique()"
   ]
  },
  {
   "cell_type": "code",
   "execution_count": 12,
   "metadata": {
    "ExecuteTime": {
     "end_time": "2020-02-23T14:40:44.072302Z",
     "start_time": "2020-02-23T14:40:43.976866Z"
    },
    "autoscroll": "auto",
    "options": {
     "caption": false,
     "complete": true,
     "display_data": true,
     "display_stream": true,
     "dpi": 200,
     "echo": true,
     "evaluate": false,
     "f_env": null,
     "f_pos": "htpb",
     "f_size": [
      6,
      4
     ],
     "f_spines": true,
     "fig": true,
     "include": true,
     "name": null,
     "option_string": "evaluate=False",
     "results": "verbatim",
     "term": false,
     "wrap": "output"
    },
    "slideshow": {
     "slide_type": "subslide"
    }
   },
   "outputs": [
    {
     "data": {
      "text/plain": [
       "PassengerId       int64\n",
       "Survived       category\n",
       "Pclass         category\n",
       "Name             object\n",
       "Sex            category\n",
       "Age             float64\n",
       "SibSp          category\n",
       "Parch          category\n",
       "Ticket           object\n",
       "Fare            float64\n",
       "Cabin            object\n",
       "Embarked       category\n",
       "dtype: object"
      ]
     },
     "execution_count": 12,
     "metadata": {},
     "output_type": "execute_result"
    }
   ],
   "source": [
    "train_dtypes = {\n",
    "    'Survived': 'category',\n",
    "    'Pclass' : 'category',\n",
    "    'Sex': 'category',\n",
    "    'SibSp': 'category',\n",
    "    'Parch': 'category',\n",
    "    'Embarked': 'category',\n",
    "}\n",
    "pd.read_csv(\"train.csv\",dtype = train_dtypes).dtypes"
   ]
  },
  {
   "cell_type": "markdown",
   "metadata": {
    "slideshow": {
     "slide_type": "slide"
    }
   },
   "source": [
    "## Question: Count the number of missing values in each column\n",
    "\n",
    "Display the distribution of `Pclass`  and `Cabin == NaN` in\n",
    "the subpopulation defined by the missingness of `Age`.\n",
    "\n",
    "Hint: you may use function `mosaic` from package `statsmodels`. See \n",
    "`from statsmodels.graphics.mosaicplot import mosaic`\n",
    "\n",
    "### Answer"
   ]
  },
  {
   "cell_type": "code",
   "execution_count": 13,
   "metadata": {
    "ExecuteTime": {
     "end_time": "2020-02-23T14:40:45.145998Z",
     "start_time": "2020-02-23T14:40:44.086615Z"
    },
    "autoscroll": "auto",
    "options": {
     "caption": false,
     "complete": true,
     "display_data": true,
     "display_stream": true,
     "dpi": 200,
     "echo": true,
     "evaluate": false,
     "f_env": null,
     "f_pos": "htpb",
     "f_size": [
      6,
      4
     ],
     "f_spines": true,
     "fig": true,
     "include": true,
     "name": null,
     "option_string": "evaluate=False",
     "results": "verbatim",
     "term": false,
     "wrap": "output"
    },
    "slideshow": {
     "slide_type": "subslide"
    }
   },
   "outputs": [
    {
     "data": {
      "image/png": "[encoded data removed]",
      "text/plain": [
       "<Figure size 432x288 with 3 Axes>"
      ]
     },
     "metadata": {
      "needs_background": "light"
     },
     "output_type": "display_data"
    }
   ],
   "source": [
    "from statsmodels.graphics.mosaicplot import mosaic\n",
    "\n",
    "df_train['Cabin'] = df_train['Cabin'].replace('nan',np.nan)\n",
    "\n",
    "dt = df_train[df_train['Age'].isna()]\n",
    "cabin_na = dt['Cabin'].isnull()\n",
    "pclass = dt['Pclass']\n",
    "\n",
    "df_b = pd.DataFrame({'cabin_na' : cabin_na, 'pclass' : pclass})\n",
    "mosaic(df_b, ['pclass', 'cabin_na'], title='Distribution of Pclass and Cabin == NaN in the subpopulation defined by the missingness of Age', axes_label = True)\n",
    "plt.show()"
   ]
  },
  {
   "cell_type": "markdown",
   "metadata": {
    "slideshow": {
     "slide_type": "slide"
    }
   },
   "source": [
    "\n",
    "\n",
    "## Question: number of missing values per row\n",
    "\n",
    "It is also possible to determine the number of NA values per row.\n",
    "List the rows with at least two missing values. Can you complete\n",
    "some dots?\n",
    "\n",
    "### Answer"
   ]
  },
  {
   "cell_type": "code",
   "execution_count": 14,
   "metadata": {
    "ExecuteTime": {
     "end_time": "2020-02-23T14:40:46.285062Z",
     "start_time": "2020-02-23T14:40:45.157737Z"
    },
    "autoscroll": "auto",
    "options": {
     "caption": false,
     "complete": true,
     "display_data": true,
     "display_stream": true,
     "dpi": 200,
     "echo": true,
     "evaluate": false,
     "f_env": null,
     "f_pos": "htpb",
     "f_size": [
      6,
      4
     ],
     "f_spines": true,
     "fig": true,
     "include": true,
     "name": null,
     "option_string": "evaluate=False",
     "results": "verbatim",
     "term": false,
     "wrap": "output"
    },
    "slideshow": {
     "slide_type": "subslide"
    }
   },
   "outputs": [
    {
     "data": {
      "text/html": [
       "<div>\n",
       "<style scoped>\n",
       "    .dataframe tbody tr th:only-of-type {\n",
       "        vertical-align: middle;\n",
       "    }\n",
       "\n",
       "    .dataframe tbody tr th {\n",
       "        vertical-align: top;\n",
       "    }\n",
       "\n",
       "    .dataframe thead th {\n",
       "        text-align: right;\n",
       "    }\n",
       "</style>\n",
       "<table border=\"1\" class=\"dataframe\">\n",
       "  <thead>\n",
       "    <tr style=\"text-align: right;\">\n",
       "      <th></th>\n",
       "      <th>PassengerId</th>\n",
       "      <th>Survived</th>\n",
       "      <th>Pclass</th>\n",
       "      <th>Name</th>\n",
       "      <th>Sex</th>\n",
       "      <th>Age</th>\n",
       "      <th>SibSp</th>\n",
       "      <th>Parch</th>\n",
       "      <th>Ticket</th>\n",
       "      <th>Fare</th>\n",
       "      <th>Cabin</th>\n",
       "      <th>Embarked</th>\n",
       "    </tr>\n",
       "  </thead>\n",
       "  <tbody>\n",
       "    <tr>\n",
       "      <td>5</td>\n",
       "      <td>6</td>\n",
       "      <td>False</td>\n",
       "      <td>3</td>\n",
       "      <td>Moran, Mr. James</td>\n",
       "      <td>male</td>\n",
       "      <td>NaN</td>\n",
       "      <td>0</td>\n",
       "      <td>0</td>\n",
       "      <td>330877</td>\n",
       "      <td>8.4583</td>\n",
       "      <td>NaN</td>\n",
       "      <td>Q</td>\n",
       "    </tr>\n",
       "    <tr>\n",
       "      <td>17</td>\n",
       "      <td>18</td>\n",
       "      <td>True</td>\n",
       "      <td>2</td>\n",
       "      <td>Williams, Mr. Charles Eugene</td>\n",
       "      <td>male</td>\n",
       "      <td>NaN</td>\n",
       "      <td>0</td>\n",
       "      <td>0</td>\n",
       "      <td>244373</td>\n",
       "      <td>13.0000</td>\n",
       "      <td>NaN</td>\n",
       "      <td>S</td>\n",
       "    </tr>\n",
       "    <tr>\n",
       "      <td>19</td>\n",
       "      <td>20</td>\n",
       "      <td>True</td>\n",
       "      <td>3</td>\n",
       "      <td>Masselmani, Mrs. Fatima</td>\n",
       "      <td>female</td>\n",
       "      <td>NaN</td>\n",
       "      <td>0</td>\n",
       "      <td>0</td>\n",
       "      <td>2649</td>\n",
       "      <td>7.2250</td>\n",
       "      <td>NaN</td>\n",
       "      <td>C</td>\n",
       "    </tr>\n",
       "    <tr>\n",
       "      <td>26</td>\n",
       "      <td>27</td>\n",
       "      <td>False</td>\n",
       "      <td>3</td>\n",
       "      <td>Emir, Mr. Farred Chehab</td>\n",
       "      <td>male</td>\n",
       "      <td>NaN</td>\n",
       "      <td>0</td>\n",
       "      <td>0</td>\n",
       "      <td>2631</td>\n",
       "      <td>7.2250</td>\n",
       "      <td>NaN</td>\n",
       "      <td>C</td>\n",
       "    </tr>\n",
       "    <tr>\n",
       "      <td>28</td>\n",
       "      <td>29</td>\n",
       "      <td>True</td>\n",
       "      <td>3</td>\n",
       "      <td>O'Dwyer, Miss. Ellen \"Nellie\"</td>\n",
       "      <td>female</td>\n",
       "      <td>NaN</td>\n",
       "      <td>0</td>\n",
       "      <td>0</td>\n",
       "      <td>330959</td>\n",
       "      <td>7.8792</td>\n",
       "      <td>NaN</td>\n",
       "      <td>Q</td>\n",
       "    </tr>\n",
       "    <tr>\n",
       "      <td>...</td>\n",
       "      <td>...</td>\n",
       "      <td>...</td>\n",
       "      <td>...</td>\n",
       "      <td>...</td>\n",
       "      <td>...</td>\n",
       "      <td>...</td>\n",
       "      <td>...</td>\n",
       "      <td>...</td>\n",
       "      <td>...</td>\n",
       "      <td>...</td>\n",
       "      <td>...</td>\n",
       "      <td>...</td>\n",
       "    </tr>\n",
       "    <tr>\n",
       "      <td>859</td>\n",
       "      <td>860</td>\n",
       "      <td>False</td>\n",
       "      <td>3</td>\n",
       "      <td>Razi, Mr. Raihed</td>\n",
       "      <td>male</td>\n",
       "      <td>NaN</td>\n",
       "      <td>0</td>\n",
       "      <td>0</td>\n",
       "      <td>2629</td>\n",
       "      <td>7.2292</td>\n",
       "      <td>NaN</td>\n",
       "      <td>C</td>\n",
       "    </tr>\n",
       "    <tr>\n",
       "      <td>863</td>\n",
       "      <td>864</td>\n",
       "      <td>False</td>\n",
       "      <td>3</td>\n",
       "      <td>Sage, Miss. Dorothy Edith \"Dolly\"</td>\n",
       "      <td>female</td>\n",
       "      <td>NaN</td>\n",
       "      <td>8</td>\n",
       "      <td>2</td>\n",
       "      <td>CA. 2343</td>\n",
       "      <td>69.5500</td>\n",
       "      <td>NaN</td>\n",
       "      <td>S</td>\n",
       "    </tr>\n",
       "    <tr>\n",
       "      <td>868</td>\n",
       "      <td>869</td>\n",
       "      <td>False</td>\n",
       "      <td>3</td>\n",
       "      <td>van Melkebeke, Mr. Philemon</td>\n",
       "      <td>male</td>\n",
       "      <td>NaN</td>\n",
       "      <td>0</td>\n",
       "      <td>0</td>\n",
       "      <td>345777</td>\n",
       "      <td>9.5000</td>\n",
       "      <td>NaN</td>\n",
       "      <td>S</td>\n",
       "    </tr>\n",
       "    <tr>\n",
       "      <td>878</td>\n",
       "      <td>879</td>\n",
       "      <td>False</td>\n",
       "      <td>3</td>\n",
       "      <td>Laleff, Mr. Kristo</td>\n",
       "      <td>male</td>\n",
       "      <td>NaN</td>\n",
       "      <td>0</td>\n",
       "      <td>0</td>\n",
       "      <td>349217</td>\n",
       "      <td>7.8958</td>\n",
       "      <td>NaN</td>\n",
       "      <td>S</td>\n",
       "    </tr>\n",
       "    <tr>\n",
       "      <td>888</td>\n",
       "      <td>889</td>\n",
       "      <td>False</td>\n",
       "      <td>3</td>\n",
       "      <td>Johnston, Miss. Catherine Helen \"Carrie\"</td>\n",
       "      <td>female</td>\n",
       "      <td>NaN</td>\n",
       "      <td>1</td>\n",
       "      <td>2</td>\n",
       "      <td>W./C. 6607</td>\n",
       "      <td>23.4500</td>\n",
       "      <td>NaN</td>\n",
       "      <td>S</td>\n",
       "    </tr>\n",
       "  </tbody>\n",
       "</table>\n",
       "<p>158 rows × 12 columns</p>\n",
       "</div>"
      ],
      "text/plain": [
       "     PassengerId  Survived Pclass                                      Name  \\\n",
       "5              6     False      3                          Moran, Mr. James   \n",
       "17            18      True      2              Williams, Mr. Charles Eugene   \n",
       "19            20      True      3                   Masselmani, Mrs. Fatima   \n",
       "26            27     False      3                   Emir, Mr. Farred Chehab   \n",
       "28            29      True      3             O'Dwyer, Miss. Ellen \"Nellie\"   \n",
       "..           ...       ...    ...                                       ...   \n",
       "859          860     False      3                          Razi, Mr. Raihed   \n",
       "863          864     False      3         Sage, Miss. Dorothy Edith \"Dolly\"   \n",
       "868          869     False      3               van Melkebeke, Mr. Philemon   \n",
       "878          879     False      3                        Laleff, Mr. Kristo   \n",
       "888          889     False      3  Johnston, Miss. Catherine Helen \"Carrie\"   \n",
       "\n",
       "        Sex  Age SibSp Parch      Ticket     Fare Cabin Embarked  \n",
       "5      male  NaN     0     0      330877   8.4583   NaN        Q  \n",
       "17     male  NaN     0     0      244373  13.0000   NaN        S  \n",
       "19   female  NaN     0     0        2649   7.2250   NaN        C  \n",
       "26     male  NaN     0     0        2631   7.2250   NaN        C  \n",
       "28   female  NaN     0     0      330959   7.8792   NaN        Q  \n",
       "..      ...  ...   ...   ...         ...      ...   ...      ...  \n",
       "859    male  NaN     0     0        2629   7.2292   NaN        C  \n",
       "863  female  NaN     8     2    CA. 2343  69.5500   NaN        S  \n",
       "868    male  NaN     0     0      345777   9.5000   NaN        S  \n",
       "878    male  NaN     0     0      349217   7.8958   NaN        S  \n",
       "888  female  NaN     1     2  W./C. 6607  23.4500   NaN        S  \n",
       "\n",
       "[158 rows x 12 columns]"
      ]
     },
     "execution_count": 14,
     "metadata": {},
     "output_type": "execute_result"
    }
   ],
   "source": [
    "NaN_count = df_train.apply(lambda x : x.isnull().sum(),axis = 1)\n",
    "df_train[NaN_count >= 2]"
   ]
  },
  {
   "cell_type": "markdown",
   "metadata": {
    "slideshow": {
     "slide_type": "slide"
    }
   },
   "source": [
    "\n",
    "\n",
    "## Question: describe, showing quintiles\n",
    "\n",
    "For each numerical column, show the *quintiles* (from $20\\%$ up to $80\\%$).\n",
    "\n",
    "### Answer\n",
    "\n"
   ]
  },
  {
   "cell_type": "code",
   "execution_count": 15,
   "metadata": {
    "ExecuteTime": {
     "end_time": "2020-02-23T14:40:46.397724Z",
     "start_time": "2020-02-23T14:40:46.296120Z"
    },
    "autoscroll": "auto",
    "options": {
     "caption": false,
     "complete": true,
     "display_data": true,
     "display_stream": true,
     "dpi": 200,
     "echo": true,
     "evaluate": false,
     "f_env": null,
     "f_pos": "htpb",
     "f_size": [
      6,
      4
     ],
     "f_spines": true,
     "fig": true,
     "include": true,
     "name": null,
     "option_string": "evaluate=False",
     "results": "verbatim",
     "term": false,
     "wrap": "output"
    },
    "slideshow": {
     "slide_type": "subslide"
    }
   },
   "outputs": [
    {
     "data": {
      "text/html": [
       "<div>\n",
       "<style scoped>\n",
       "    .dataframe tbody tr th:only-of-type {\n",
       "        vertical-align: middle;\n",
       "    }\n",
       "\n",
       "    .dataframe tbody tr th {\n",
       "        vertical-align: top;\n",
       "    }\n",
       "\n",
       "    .dataframe thead th {\n",
       "        text-align: right;\n",
       "    }\n",
       "</style>\n",
       "<table border=\"1\" class=\"dataframe\">\n",
       "  <thead>\n",
       "    <tr style=\"text-align: right;\">\n",
       "      <th></th>\n",
       "      <th>Age</th>\n",
       "      <th>Fare</th>\n",
       "    </tr>\n",
       "  </thead>\n",
       "  <tbody>\n",
       "    <tr>\n",
       "      <td>q_20%</td>\n",
       "      <td>19.0</td>\n",
       "      <td>7.8542</td>\n",
       "    </tr>\n",
       "    <tr>\n",
       "      <td>q_40%</td>\n",
       "      <td>25.0</td>\n",
       "      <td>10.5000</td>\n",
       "    </tr>\n",
       "    <tr>\n",
       "      <td>q_60%</td>\n",
       "      <td>31.8</td>\n",
       "      <td>21.6792</td>\n",
       "    </tr>\n",
       "    <tr>\n",
       "      <td>q_80%</td>\n",
       "      <td>41.0</td>\n",
       "      <td>39.6875</td>\n",
       "    </tr>\n",
       "  </tbody>\n",
       "</table>\n",
       "</div>"
      ],
      "text/plain": [
       "        Age     Fare\n",
       "q_20%  19.0   7.8542\n",
       "q_40%  25.0  10.5000\n",
       "q_60%  31.8  21.6792\n",
       "q_80%  41.0  39.6875"
      ]
     },
     "execution_count": 15,
     "metadata": {},
     "output_type": "execute_result"
    }
   ],
   "source": [
    "df_bis = df_train.select_dtypes(include='double')\n",
    "quintile = {col : [df_bis[col].quantile(0.2*i) for i in range (1,5)] for col in df_bis.columns}\n",
    "\n",
    "quintile_df = pd.DataFrame(quintile)\n",
    "quintile_df.rename(index = {0 : 'q_20%',1 : 'q_40%',2 : 'q_60%',3 : 'q_80%'})"
   ]
  },
  {
   "cell_type": "markdown",
   "metadata": {
    "slideshow": {
     "slide_type": "slide"
    }
   },
   "source": [
    "\n",
    "\n",
    "## Question: binning the `Age` column\n",
    "\n",
    "Create a new categorical column named `Status`.\n",
    "\n",
    "The value should be should depend on the `Age`\n",
    "column with bins  `[0,17], (17, 40], (40, 60], (60, 100]`\n",
    "(`np.nan` for passengers whose age is unknown).\n",
    "\n",
    "### Answer\n",
    "\n",
    "\n"
   ]
  },
  {
   "cell_type": "code",
   "execution_count": 16,
   "metadata": {
    "ExecuteTime": {
     "end_time": "2020-02-23T14:40:46.452272Z",
     "start_time": "2020-02-23T14:40:46.407494Z"
    },
    "autoscroll": "auto",
    "options": {
     "caption": false,
     "complete": true,
     "display_data": true,
     "display_stream": true,
     "dpi": 200,
     "echo": true,
     "evaluate": false,
     "f_env": null,
     "f_pos": "htpb",
     "f_size": [
      6,
      4
     ],
     "f_spines": true,
     "fig": true,
     "include": true,
     "name": null,
     "option_string": "evaluate=False",
     "results": "verbatim",
     "term": false,
     "wrap": "output"
    },
    "slideshow": {
     "slide_type": "subslide"
    }
   },
   "outputs": [],
   "source": [
    "def assign_value(age):\n",
    "    if age >= 0 and age <= 17 : return \"[0,17]\"\n",
    "    if age >= 18 and age <= 40 : return \"(17,40]\"\n",
    "    if age >= 41 and age <= 60 : return \"(40,60]\"\n",
    "    if age >= 61 and age <= 100 : return \"(60,100]\"\n",
    "    else : return np.nan\n",
    "    \n",
    "df_train['Status'] = df_train['Age'].apply(assign_value)\n",
    "df_train['Status'] = pd.Categorical(df_train['Status'])"
   ]
  },
  {
   "cell_type": "markdown",
   "metadata": {
    "slideshow": {
     "slide_type": "subslide"
    }
   },
   "source": [
    "\n",
    "## Question: \n",
    "\n",
    "Draw a `countplot` for each categorical column, arrange the `countplot`s in a grid \n",
    "with two rows and three columns.\n",
    "\n",
    "### Answer"
   ]
  },
  {
   "cell_type": "code",
   "execution_count": 17,
   "metadata": {
    "ExecuteTime": {
     "end_time": "2020-02-23T14:40:49.629860Z",
     "start_time": "2020-02-23T14:40:46.466912Z"
    },
    "autoscroll": "auto",
    "options": {
     "caption": false,
     "complete": true,
     "display_data": true,
     "display_stream": true,
     "dpi": 200,
     "echo": true,
     "evaluate": false,
     "f_env": null,
     "f_pos": "htpb",
     "f_size": [
      6,
      4
     ],
     "f_spines": true,
     "fig": true,
     "include": true,
     "name": null,
     "option_string": "evaluate=False",
     "results": "verbatim",
     "term": false,
     "wrap": "output"
    },
    "scrolled": true,
    "slideshow": {
     "slide_type": "subslide"
    }
   },
   "outputs": [
    {
     "data": {
      "image/png": "[encoded data removed]",
      "text/plain": [
       "<Figure size 1080x720 with 6 Axes>"
      ]
     },
     "metadata": {
      "needs_background": "light"
     },
     "output_type": "display_data"
    }
   ],
   "source": [
    "fig, axes = plt.subplots(2,3,sharey = True,figsize=(15,10))\n",
    "plt.suptitle(\"Countplot for categorical columns\")\n",
    "axes = axes.flatten()\n",
    "categorical_cols = df_train.dtypes == 'category'\n",
    "for ax,col in zip(axes,df_train.dtypes[categorical_cols].index):\n",
    "    sns.countplot(x = col, data = df_train, ax = ax)"
   ]
  },
  {
   "cell_type": "markdown",
   "metadata": {
    "slideshow": {
     "slide_type": "slide"
    }
   },
   "source": [
    "\n",
    "## Question: plotting the distribution of numerical columns\n",
    "\n",
    "For each column for which it makes sense, display its distribution using `seaborn`:\n",
    "choose the most relevant type of plot for each column and display it.\n",
    "\n",
    "**Remark.** Note that the `Age` column contains missing values:\n",
    "show the number of missing / non-missing values in this column, and show the distribution of non-missing ages in a different plot.\n",
    "Also, note that there is a `notna()` method for dataframes...\n",
    "\n",
    "### Answer\n"
   ]
  },
  {
   "cell_type": "code",
   "execution_count": 18,
   "metadata": {
    "ExecuteTime": {
     "end_time": "2020-02-23T14:40:51.702860Z",
     "start_time": "2020-02-23T14:40:49.640440Z"
    },
    "autoscroll": "auto",
    "options": {
     "caption": false,
     "complete": true,
     "display_data": true,
     "display_stream": true,
     "dpi": 200,
     "echo": true,
     "evaluate": false,
     "f_env": null,
     "f_pos": "htpb",
     "f_size": [
      6,
      4
     ],
     "f_spines": true,
     "fig": true,
     "include": true,
     "name": null,
     "option_string": "evaluate=False",
     "results": "verbatim",
     "term": false,
     "wrap": "output"
    },
    "scrolled": true,
    "slideshow": {
     "slide_type": "subslide"
    }
   },
   "outputs": [
    {
     "data": {
      "image/png": "[encoded data removed]",
      "text/plain": [
       "<Figure size 1080x360 with 2 Axes>"
      ]
     },
     "metadata": {
      "needs_background": "light"
     },
     "output_type": "display_data"
    }
   ],
   "source": [
    "fig, axes = plt.subplots(1,2,figsize=(15,5))\n",
    "axes.flatten()\n",
    "float_cols = df_train.dtypes == 'float64'\n",
    "dt = df_train[pd.notna(df_train['Age'])]\n",
    "for ax,cols in zip(axes,dt.dtypes[float_cols].index):\n",
    "    sns.distplot(dt[cols],ax = ax, kde = True,norm_hist = True)\n",
    "    ax.set_title('Distribution of '+cols)"
   ]
  },
  {
   "cell_type": "markdown",
   "metadata": {
    "slideshow": {
     "slide_type": "slide"
    }
   },
   "source": [
    "\n",
    "\n",
    "## Question: plot numerical columuns according to categorical columns\n",
    "\n",
    "Do the same as in Question 4,\n",
    "but **differentiate** the plots\n",
    "for passengers the passengers that survived and the ones who did not.\n",
    "You can use the `hue` option,\n",
    "you can use a `FacetGrid`.\n",
    "Look at the `seaborn` documentation and choose the best option.\n",
    "\n",
    "### Answer\n",
    "\n",
    "#### Facets\n",
    "\n"
   ]
  },
  {
   "cell_type": "code",
   "execution_count": 65,
   "metadata": {
    "ExecuteTime": {
     "end_time": "2020-02-23T15:11:09.311326Z",
     "start_time": "2020-02-23T15:11:09.278650Z"
    }
   },
   "outputs": [],
   "source": [
    "categorical_cols = df_train.dtypes == 'category'\n",
    "cat_cols = df_train.dtypes[categorical_cols].index\n",
    "numerical_cols = df_train.dtypes == 'float64'\n",
    "num_cols = df_train.dtypes[numerical_cols].index"
   ]
  },
  {
   "cell_type": "code",
   "execution_count": 53,
   "metadata": {
    "ExecuteTime": {
     "end_time": "2020-02-23T15:02:17.145900Z",
     "start_time": "2020-02-23T15:02:09.942514Z"
    },
    "autoscroll": "auto",
    "options": {
     "caption": false,
     "complete": true,
     "display_data": true,
     "display_stream": true,
     "dpi": 200,
     "echo": true,
     "evaluate": false,
     "f_env": null,
     "f_pos": "htpb",
     "f_size": [
      6,
      4
     ],
     "f_spines": true,
     "fig": true,
     "include": true,
     "name": null,
     "option_string": "evaluate=False",
     "results": "verbatim",
     "term": false,
     "wrap": "output"
    },
    "slideshow": {
     "slide_type": "subslide"
    }
   },
   "outputs": [
    {
     "data": {
      "image/png": "[encoded data removed]",
      "text/plain": [
       "<Figure size 432x216 with 2 Axes>"
      ]
     },
     "metadata": {
      "needs_background": "light"
     },
     "output_type": "display_data"
    },
    {
     "data": {
      "image/png": "[encoded data removed]",
      "text/plain": [
       "<Figure size 432x216 with 2 Axes>"
      ]
     },
     "metadata": {
      "needs_background": "light"
     },
     "output_type": "display_data"
    },
    {
     "data": {
      "image/png": "[encoded data removed]",
      "text/plain": [
       "<Figure size 432x216 with 2 Axes>"
      ]
     },
     "metadata": {
      "needs_background": "light"
     },
     "output_type": "display_data"
    },
    {
     "data": {
      "image/png": "[encoded data removed]",
      "text/plain": [
       "<Figure size 432x216 with 2 Axes>"
      ]
     },
     "metadata": {
      "needs_background": "light"
     },
     "output_type": "display_data"
    },
    {
     "data": {
      "image/png": "[encoded data removed]",
      "text/plain": [
       "<Figure size 432x216 with 2 Axes>"
      ]
     },
     "metadata": {
      "needs_background": "light"
     },
     "output_type": "display_data"
    },
    {
     "data": {
      "image/png": "[encoded data removed]",
      "text/plain": [
       "<Figure size 432x216 with 2 Axes>"
      ]
     },
     "metadata": {
      "needs_background": "light"
     },
     "output_type": "display_data"
    }
   ],
   "source": [
    "for col in cat_cols :\n",
    "    sns.FacetGrid(df_train,col=\"Survived\").map(sns.countplot,col,order = df_train[col].value_counts().index)"
   ]
  },
  {
   "cell_type": "markdown",
   "metadata": {
    "slideshow": {
     "slide_type": "subslide"
    }
   },
   "source": [
    "#### Boxplot"
   ]
  },
  {
   "cell_type": "code",
   "execution_count": 72,
   "metadata": {
    "ExecuteTime": {
     "end_time": "2020-02-23T15:13:45.569492Z",
     "start_time": "2020-02-23T15:13:45.538249Z"
    }
   },
   "outputs": [],
   "source": [
    "def box_plt(n_col):\n",
    "    for c_col in cat_cols:\n",
    "        g = sns.boxplot(x = \"Survived\", y = n_col , hue = c_col, data = df_train)\n",
    "        if(n_col == \"Fare\"): g.set(yscale='log')\n",
    "        plt.show()"
   ]
  },
  {
   "cell_type": "code",
   "execution_count": 73,
   "metadata": {
    "ExecuteTime": {
     "end_time": "2020-02-23T15:13:55.845859Z",
     "start_time": "2020-02-23T15:13:47.250225Z"
    }
   },
   "outputs": [
    {
     "data": {
      "image/png": "[encoded data removed]",
      "text/plain": [
       "<Figure size 432x288 with 1 Axes>"
      ]
     },
     "metadata": {
      "needs_background": "light"
     },
     "output_type": "display_data"
    },
    {
     "data": {
      "image/png": "[encoded data removed]",
      "text/plain": [
       "<Figure size 432x288 with 1 Axes>"
      ]
     },
     "metadata": {
      "needs_background": "light"
     },
     "output_type": "display_data"
    },
    {
     "data": {
      "image/png": "[encoded data removed]",
      "text/plain": [
       "<Figure size 432x288 with 1 Axes>"
      ]
     },
     "metadata": {
      "needs_background": "light"
     },
     "output_type": "display_data"
    },
    {
     "data": {
      "image/png": "[encoded data removed]",
      "text/plain": [
       "<Figure size 432x288 with 1 Axes>"
      ]
     },
     "metadata": {
      "needs_background": "light"
     },
     "output_type": "display_data"
    },
    {
     "data": {
      "image/png": "[encoded data removed]",
      "text/plain": [
       "<Figure size 432x288 with 1 Axes>"
      ]
     },
     "metadata": {
      "needs_background": "light"
     },
     "output_type": "display_data"
    },
    {
     "data": {
      "image/png": "[encoded data removed]",
      "text/plain": [
       "<Figure size 432x288 with 1 Axes>"
      ]
     },
     "metadata": {
      "needs_background": "light"
     },
     "output_type": "display_data"
    }
   ],
   "source": [
    "box_plt(\"Age\")"
   ]
  },
  {
   "cell_type": "code",
   "execution_count": 74,
   "metadata": {
    "ExecuteTime": {
     "end_time": "2020-02-23T15:14:20.599923Z",
     "start_time": "2020-02-23T15:14:07.806417Z"
    }
   },
   "outputs": [
    {
     "data": {
      "image/png": "[encoded data removed]",
      "text/plain": [
       "<Figure size 432x288 with 1 Axes>"
      ]
     },
     "metadata": {
      "needs_background": "light"
     },
     "output_type": "display_data"
    },
    {
     "data": {
      "image/png": "[encoded data removed]",
      "text/plain": [
       "<Figure size 432x288 with 1 Axes>"
      ]
     },
     "metadata": {
      "needs_background": "light"
     },
     "output_type": "display_data"
    },
    {
     "data": {
      "image/png": "[encoded data removed]",
      "text/plain": [
       "<Figure size 432x288 with 1 Axes>"
      ]
     },
     "metadata": {
      "needs_background": "light"
     },
     "output_type": "display_data"
    },
    {
     "data": {
      "image/png": "[encoded data removed]",
      "text/plain": [
       "<Figure size 432x288 with 1 Axes>"
      ]
     },
     "metadata": {
      "needs_background": "light"
     },
     "output_type": "display_data"
    },
    {
     "data": {
      "image/png": "[encoded data removed]",
      "text/plain": [
       "<Figure size 432x288 with 1 Axes>"
      ]
     },
     "metadata": {
      "needs_background": "light"
     },
     "output_type": "display_data"
    },
    {
     "data": {
      "image/png": "[encoded data removed]",
      "text/plain": [
       "<Figure size 432x288 with 1 Axes>"
      ]
     },
     "metadata": {
      "needs_background": "light"
     },
     "output_type": "display_data"
    }
   ],
   "source": [
    "box_plt(\"Fare\")"
   ]
  },
  {
   "cell_type": "markdown",
   "metadata": {
    "slideshow": {
     "slide_type": "subslide"
    }
   },
   "source": [
    "#### Catplot"
   ]
  },
  {
   "cell_type": "code",
   "execution_count": 80,
   "metadata": {
    "ExecuteTime": {
     "end_time": "2020-02-23T15:16:39.538011Z",
     "start_time": "2020-02-23T15:16:39.513338Z"
    },
    "autoscroll": "auto",
    "options": {
     "caption": false,
     "complete": true,
     "display_data": true,
     "display_stream": true,
     "dpi": 200,
     "echo": true,
     "evaluate": false,
     "f_env": null,
     "f_pos": "htpb",
     "f_size": [
      6,
      4
     ],
     "f_spines": true,
     "fig": true,
     "include": true,
     "name": null,
     "option_string": "evaluate=False",
     "results": "verbatim",
     "term": false,
     "wrap": "output"
    },
    "slideshow": {
     "slide_type": "subslide"
    }
   },
   "outputs": [],
   "source": [
    "def cat_plt(n_col,k):\n",
    "    for c_col in cat_cols:\n",
    "        g = sns.catplot(x = \"Survived\", y = n_col , hue = c_col, data = df_train, kind = k)\n",
    "        if(n_col == \"Fare\"): g.set(yscale='log')\n",
    "        plt.show()"
   ]
  },
  {
   "cell_type": "code",
   "execution_count": 78,
   "metadata": {
    "ExecuteTime": {
     "end_time": "2020-02-23T15:15:49.292419Z",
     "start_time": "2020-02-23T15:15:36.969944Z"
    }
   },
   "outputs": [
    {
     "data": {
      "image/png": "[encoded data removed]",
      "text/plain": [
       "<Figure size 416.02x360 with 1 Axes>"
      ]
     },
     "metadata": {
      "needs_background": "light"
     },
     "output_type": "display_data"
    },
    {
     "data": {
      "image/png": "[encoded data removed]",
      "text/plain": [
       "<Figure size 453.52x360 with 1 Axes>"
      ]
     },
     "metadata": {
      "needs_background": "light"
     },
     "output_type": "display_data"
    },
    {
     "data": {
      "image/png": "[encoded data removed]",
      "text/plain": [
       "<Figure size 416.02x360 with 1 Axes>"
      ]
     },
     "metadata": {
      "needs_background": "light"
     },
     "output_type": "display_data"
    },
    {
     "data": {
      "image/png": "[encoded data removed]",
      "text/plain": [
       "<Figure size 416.02x360 with 1 Axes>"
      ]
     },
     "metadata": {
      "needs_background": "light"
     },
     "output_type": "display_data"
    },
    {
     "data": {
      "image/png": "[encoded data removed]",
      "text/plain": [
       "<Figure size 433.06x360 with 1 Axes>"
      ]
     },
     "metadata": {
      "needs_background": "light"
     },
     "output_type": "display_data"
    },
    {
     "data": {
      "image/png": "[encoded data removed]",
      "text/plain": [
       "<Figure size 464.02x360 with 1 Axes>"
      ]
     },
     "metadata": {
      "needs_background": "light"
     },
     "output_type": "display_data"
    }
   ],
   "source": [
    "cat_plt(\"Age\",\"box\")"
   ]
  },
  {
   "cell_type": "code",
   "execution_count": 81,
   "metadata": {
    "ExecuteTime": {
     "end_time": "2020-02-23T15:16:56.873244Z",
     "start_time": "2020-02-23T15:16:42.163675Z"
    }
   },
   "outputs": [
    {
     "data": {
      "image/png": "[encoded data removed]",
      "text/plain": [
       "<Figure size 416.02x360 with 1 Axes>"
      ]
     },
     "metadata": {
      "needs_background": "light"
     },
     "output_type": "display_data"
    },
    {
     "data": {
      "image/png": "[encoded data removed]",
      "text/plain": [
       "<Figure size 453.52x360 with 1 Axes>"
      ]
     },
     "metadata": {
      "needs_background": "light"
     },
     "output_type": "display_data"
    },
    {
     "data": {
      "image/png": "[encoded data removed]",
      "text/plain": [
       "<Figure size 416.02x360 with 1 Axes>"
      ]
     },
     "metadata": {
      "needs_background": "light"
     },
     "output_type": "display_data"
    },
    {
     "data": {
      "image/png": "[encoded data removed]",
      "text/plain": [
       "<Figure size 416.02x360 with 1 Axes>"
      ]
     },
     "metadata": {
      "needs_background": "light"
     },
     "output_type": "display_data"
    },
    {
     "data": {
      "image/png": "[encoded data removed]",
      "text/plain": [
       "<Figure size 433.06x360 with 1 Axes>"
      ]
     },
     "metadata": {
      "needs_background": "light"
     },
     "output_type": "display_data"
    },
    {
     "data": {
      "image/png": "[encoded data removed]",
      "text/plain": [
       "<Figure size 464.02x360 with 1 Axes>"
      ]
     },
     "metadata": {
      "needs_background": "light"
     },
     "output_type": "display_data"
    }
   ],
   "source": [
    "cat_plt(\"Fare\",\"box\")"
   ]
  },
  {
   "cell_type": "markdown",
   "metadata": {
    "slideshow": {
     "slide_type": "slide"
    }
   },
   "source": [
    "\n",
    "\n",
    "\n",
    "## Question: categorical plots, barplots\n",
    "\n",
    "The `Titanic`  dataset may be compared with datasets generated by\n",
    "*surveys* (*questionnaires*). In such datasets, each row correspond\n",
    "to an individual. An individual is described by *demographic* variables\n",
    "and *attitudinal/response* variables. Here, `Age, Sex, Pclass, Embarked, ...`\n",
    "are considered as demographic variables while `Survived` is\n",
    "regarded as an attitudinal/response variable. It is desirable to plot the response\n",
    "variable as a function of (some of) the demographic variables.\n",
    "All variables are categorical.\n",
    "\n",
    "### Answer\n",
    "\n"
   ]
  },
  {
   "cell_type": "code",
   "execution_count": 83,
   "metadata": {
    "ExecuteTime": {
     "end_time": "2020-02-23T15:17:28.341894Z",
     "start_time": "2020-02-23T15:17:28.310178Z"
    },
    "autoscroll": "auto",
    "options": {
     "caption": false,
     "complete": true,
     "display_data": true,
     "display_stream": true,
     "dpi": 200,
     "echo": true,
     "evaluate": false,
     "f_env": null,
     "f_pos": "htpb",
     "f_size": [
      6,
      4
     ],
     "f_spines": true,
     "fig": true,
     "include": true,
     "name": null,
     "option_string": "evaluate=False",
     "results": "verbatim",
     "term": false,
     "wrap": "output"
    },
    "scrolled": true,
    "slideshow": {
     "slide_type": "subslide"
    }
   },
   "outputs": [],
   "source": [
    "def bar_plt(n_col):\n",
    "    for col in cat_cols:\n",
    "        sns.barplot(y = n_col, x = \"Survived\",data = df_train, hue = col)\n",
    "        plt.show()"
   ]
  },
  {
   "cell_type": "code",
   "execution_count": 84,
   "metadata": {
    "ExecuteTime": {
     "end_time": "2020-02-23T15:17:51.942346Z",
     "start_time": "2020-02-23T15:17:36.926468Z"
    }
   },
   "outputs": [
    {
     "data": {
      "image/png": "[encoded data removed]",
      "text/plain": [
       "<Figure size 432x288 with 1 Axes>"
      ]
     },
     "metadata": {
      "needs_background": "light"
     },
     "output_type": "display_data"
    },
    {
     "data": {
      "image/png": "[encoded data removed]",
      "text/plain": [
       "<Figure size 432x288 with 1 Axes>"
      ]
     },
     "metadata": {
      "needs_background": "light"
     },
     "output_type": "display_data"
    },
    {
     "data": {
      "image/png": "[encoded data removed]",
      "text/plain": [
       "<Figure size 432x288 with 1 Axes>"
      ]
     },
     "metadata": {
      "needs_background": "light"
     },
     "output_type": "display_data"
    },
    {
     "data": {
      "image/png": "[encoded data removed]",
      "text/plain": [
       "<Figure size 432x288 with 1 Axes>"
      ]
     },
     "metadata": {
      "needs_background": "light"
     },
     "output_type": "display_data"
    },
    {
     "data": {
      "image/png": "[encoded data removed]",
      "text/plain": [
       "<Figure size 432x288 with 1 Axes>"
      ]
     },
     "metadata": {
      "needs_background": "light"
     },
     "output_type": "display_data"
    },
    {
     "data": {
      "image/png": "[encoded data removed]",
      "text/plain": [
       "<Figure size 432x288 with 1 Axes>"
      ]
     },
     "metadata": {
      "needs_background": "light"
     },
     "output_type": "display_data"
    }
   ],
   "source": [
    "bar_plt(\"Age\")"
   ]
  },
  {
   "cell_type": "code",
   "execution_count": 85,
   "metadata": {
    "ExecuteTime": {
     "end_time": "2020-02-23T15:18:14.590857Z",
     "start_time": "2020-02-23T15:17:59.340413Z"
    }
   },
   "outputs": [
    {
     "data": {
      "image/png": "[encoded data removed]",
      "text/plain": [
       "<Figure size 432x288 with 1 Axes>"
      ]
     },
     "metadata": {
      "needs_background": "light"
     },
     "output_type": "display_data"
    },
    {
     "data": {
      "image/png": "[encoded data removed]",
      "text/plain": [
       "<Figure size 432x288 with 1 Axes>"
      ]
     },
     "metadata": {
      "needs_background": "light"
     },
     "output_type": "display_data"
    },
    {
     "data": {
      "image/png": "[encoded data removed]",
      "text/plain": [
       "<Figure size 432x288 with 1 Axes>"
      ]
     },
     "metadata": {
      "needs_background": "light"
     },
     "output_type": "display_data"
    },
    {
     "data": {
      "image/png": "[encoded data removed]",
      "text/plain": [
       "<Figure size 432x288 with 1 Axes>"
      ]
     },
     "metadata": {
      "needs_background": "light"
     },
     "output_type": "display_data"
    },
    {
     "data": {
      "image/png": "[encoded data removed]",
      "text/plain": [
       "<Figure size 432x288 with 1 Axes>"
      ]
     },
     "metadata": {
      "needs_background": "light"
     },
     "output_type": "display_data"
    },
    {
     "data": {
      "image/png": "[encoded data removed]",
      "text/plain": [
       "<Figure size 432x288 with 1 Axes>"
      ]
     },
     "metadata": {
      "needs_background": "light"
     },
     "output_type": "display_data"
    }
   ],
   "source": [
    "bar_plt(\"Fare\")"
   ]
  },
  {
   "cell_type": "markdown",
   "metadata": {
    "slideshow": {
     "slide_type": "slide"
    }
   },
   "source": [
    "\n",
    "Barplots do not give us hints about the size of the different sub-populations.\n",
    "\n",
    "\n",
    "## Question: categorical plots, mosaicplots\n",
    "\n",
    "\n",
    "\n",
    "You have drawn a `boxplot` of `Age` with respect to passenger class (`Pclass`).\n",
    "It would be nice to complement the plot with an indication of the number of missing values.\n",
    "It would also make sense to indicate the number of individuals in each subsample.\n",
    "\n",
    "Mosaicplot as delivered by module `statsmodels` is a very\n",
    "powerful tool to visualize *contingency tables*.\n",
    "\n",
    "A *two-way contingency table* and the associated `mosaicplot` reveal that\n",
    "the passengers who boarded in the three harbors (Southampton, Cherbourg, Q)\n",
    "did not buy the same kind of tickets. Half of the passengers embarked at Cherbourg\n",
    "travelled first class while at most one fourth of the passengers embarked\n",
    "at Southampton did.\n",
    "\n",
    "### Answer\n",
    "\n"
   ]
  },
  {
   "cell_type": "code",
   "execution_count": 86,
   "metadata": {
    "ExecuteTime": {
     "end_time": "2020-02-23T15:19:00.533326Z",
     "start_time": "2020-02-23T15:18:59.729032Z"
    },
    "autoscroll": "auto",
    "options": {
     "caption": false,
     "complete": true,
     "display_data": true,
     "display_stream": true,
     "dpi": 200,
     "echo": true,
     "evaluate": false,
     "f_env": null,
     "f_pos": "htpb",
     "f_size": [
      6,
      4
     ],
     "f_spines": true,
     "fig": true,
     "include": true,
     "name": null,
     "option_string": "evaluate=False",
     "results": "verbatim",
     "term": false,
     "wrap": "output"
    },
    "slideshow": {
     "slide_type": "subslide"
    }
   },
   "outputs": [
    {
     "data": {
      "image/png": "[encoded data removed]",
      "text/plain": [
       "<Figure size 432x288 with 3 Axes>"
      ]
     },
     "metadata": {
      "needs_background": "light"
     },
     "output_type": "display_data"
    }
   ],
   "source": [
    "mosaic(df_train, ['Embarked', 'Pclass'])\n",
    "plt.show()"
   ]
  },
  {
   "cell_type": "markdown",
   "metadata": {
    "slideshow": {
     "slide_type": "slide"
    }
   },
   "source": [
    "\n",
    "## Question: three-way mosaicplots\n",
    "\n",
    "A three-way contingency illustrate the association between `Sex`, `Pclass`\n",
    "and `Survived`.\n",
    "\n",
    "### Answer\n",
    "\n"
   ]
  },
  {
   "cell_type": "code",
   "execution_count": 87,
   "metadata": {
    "ExecuteTime": {
     "end_time": "2020-02-23T15:19:04.240527Z",
     "start_time": "2020-02-23T15:19:03.144444Z"
    },
    "autoscroll": "auto",
    "options": {
     "caption": false,
     "complete": true,
     "display_data": true,
     "display_stream": true,
     "dpi": 200,
     "echo": true,
     "evaluate": false,
     "f_env": null,
     "f_pos": "htpb",
     "f_size": [
      6,
      4
     ],
     "f_spines": true,
     "fig": true,
     "include": true,
     "name": null,
     "option_string": "evaluate=False",
     "results": "verbatim",
     "term": false,
     "wrap": "output"
    },
    "scrolled": true,
    "slideshow": {
     "slide_type": "subslide"
    }
   },
   "outputs": [
    {
     "data": {
      "image/png": "[encoded data removed]",
      "text/plain": [
       "<Figure size 432x288 with 3 Axes>"
      ]
     },
     "metadata": {
      "needs_background": "light"
     },
     "output_type": "display_data"
    }
   ],
   "source": [
    "mosaic(df_train, ['Pclass', 'Sex','Survived'])\n",
    "plt.show()"
   ]
  },
  {
   "cell_type": "markdown",
   "metadata": {
    "slideshow": {
     "slide_type": "slide"
    }
   },
   "source": [
    "\n",
    "## Question: roommates\n",
    "\n",
    "For each passenger, compute the number of passengers in the same cabin (including himself).\n",
    "Add a column called `Roommates` that contain this information.\n",
    "When the cabin information is missing, then the `Roommates` is missing as well.\n",
    "You will need to use `groupby` and `join` operations.\n",
    "\n",
    "\n",
    "\n",
    "**Warning.** You should not `reset_index` after the `groupby` operation if you `join` with the resulting dataframe.\n",
    "\n",
    "\n",
    "We may proceed by projecting on columns\n",
    "`PassengerId`,  and `Cabin` while filtering (selecting) the rows\n",
    "where `Cabin` is available. This is the `df_cabin` dataframe below.\n",
    "\n",
    "\n"
   ]
  },
  {
   "cell_type": "markdown",
   "metadata": {
    "slideshow": {
     "slide_type": "slide"
    }
   },
   "source": [
    "\n",
    "- Plot `Roommates` according to `Pclass`\n",
    "- Plot `Roommates` according to `Embarkment`\n",
    "- Plot `Roommates` according to `Sex`\n",
    "\n",
    "### Answer"
   ]
  },
  {
   "cell_type": "code",
   "execution_count": 88,
   "metadata": {
    "ExecuteTime": {
     "end_time": "2020-02-23T15:19:07.204876Z",
     "start_time": "2020-02-23T15:19:07.122116Z"
    },
    "autoscroll": "auto",
    "options": {
     "caption": false,
     "complete": true,
     "display_data": true,
     "display_stream": true,
     "dpi": 200,
     "echo": true,
     "evaluate": false,
     "f_env": null,
     "f_pos": "htpb",
     "f_size": [
      6,
      4
     ],
     "f_spines": true,
     "fig": true,
     "include": true,
     "name": null,
     "option_string": "evaluate=False",
     "results": "verbatim",
     "term": false,
     "wrap": "output"
    },
    "slideshow": {
     "slide_type": "subslide"
    }
   },
   "outputs": [
    {
     "data": {
      "text/plain": [
       "PassengerId       int64\n",
       "Survived           bool\n",
       "Pclass         category\n",
       "Name             object\n",
       "Sex            category\n",
       "Age             float64\n",
       "SibSp          category\n",
       "Parch          category\n",
       "Ticket           object\n",
       "Fare            float64\n",
       "Cabin            object\n",
       "Embarked       category\n",
       "Status         category\n",
       "Roomates        float64\n",
       "dtype: object"
      ]
     },
     "execution_count": 88,
     "metadata": {},
     "output_type": "execute_result"
    }
   ],
   "source": [
    "other = df_train[['Cabin','PassengerId']].groupby(['Cabin']).count().reset_index()\n",
    "other = other.rename(columns={\"PassengerId\":\"Roomates\"})\n",
    "df_train = df_train.join(other.set_index('Cabin'), on='Cabin')\n",
    "df_train.dtypes"
   ]
  },
  {
   "cell_type": "markdown",
   "metadata": {
    "slideshow": {
     "slide_type": "slide"
    }
   },
   "source": [
    "\n",
    "\n",
    "## Question: plotting  `RoomMates` column.\n",
    "\n",
    "\n",
    "### Answer\n",
    "\n"
   ]
  },
  {
   "cell_type": "code",
   "execution_count": 95,
   "metadata": {
    "ExecuteTime": {
     "end_time": "2020-02-23T15:21:46.442656Z",
     "start_time": "2020-02-23T15:21:43.470717Z"
    },
    "autoscroll": "auto",
    "options": {
     "caption": false,
     "complete": true,
     "display_data": true,
     "display_stream": true,
     "dpi": 200,
     "echo": true,
     "evaluate": false,
     "f_env": null,
     "f_pos": "htpb",
     "f_size": [
      6,
      4
     ],
     "f_spines": true,
     "fig": true,
     "include": true,
     "name": null,
     "option_string": "evaluate=False",
     "results": "verbatim",
     "term": false,
     "wrap": "output"
    },
    "slideshow": {
     "slide_type": "subslide"
    }
   },
   "outputs": [
    {
     "data": {
      "image/png": "[encoded data removed]",
      "text/plain": [
       "<Figure size 442.004x360 with 1 Axes>"
      ]
     },
     "metadata": {
      "needs_background": "light"
     },
     "output_type": "display_data"
    },
    {
     "data": {
      "image/png": "[encoded data removed]",
      "text/plain": [
       "<Figure size 442.004x360 with 1 Axes>"
      ]
     },
     "metadata": {
      "needs_background": "light"
     },
     "output_type": "display_data"
    },
    {
     "data": {
      "image/png": "[encoded data removed]",
      "text/plain": [
       "<Figure size 442.004x360 with 1 Axes>"
      ]
     },
     "metadata": {
      "needs_background": "light"
     },
     "output_type": "display_data"
    }
   ],
   "source": [
    "for col in ['Pclass','Embarked','Sex']:\n",
    "    sns.catplot(y = \"Roomates\", x = col,data = df_train,hue = \"Survived\").set(yticks = range(1,5))\n",
    "    plt.suptitle(\" Roomates according to \" + col, y = 1.05)\n",
    "    plt.show()"
   ]
  },
  {
   "cell_type": "markdown",
   "metadata": {
    "slideshow": {
     "slide_type": "slide"
    }
   },
   "source": [
    "\n",
    "\n",
    "## Question: surviving together\n",
    "\n",
    "Is there a cabin where some passengers survived while others did not?\n",
    "\n",
    "\n",
    "### Answer\n",
    "\n"
   ]
  },
  {
   "cell_type": "code",
   "execution_count": 96,
   "metadata": {
    "ExecuteTime": {
     "end_time": "2020-02-23T15:22:50.675379Z",
     "start_time": "2020-02-23T15:22:50.557177Z"
    },
    "autoscroll": "auto",
    "options": {
     "caption": false,
     "complete": true,
     "display_data": true,
     "display_stream": true,
     "dpi": 200,
     "echo": true,
     "evaluate": false,
     "f_env": null,
     "f_pos": "htpb",
     "f_size": [
      6,
      4
     ],
     "f_spines": true,
     "fig": true,
     "include": true,
     "name": null,
     "option_string": "evaluate=False",
     "results": "verbatim",
     "term": false,
     "wrap": "output"
    },
    "slideshow": {
     "slide_type": "subslide"
    }
   },
   "outputs": [
    {
     "data": {
      "text/html": [
       "<div>\n",
       "<style scoped>\n",
       "    .dataframe tbody tr th:only-of-type {\n",
       "        vertical-align: middle;\n",
       "    }\n",
       "\n",
       "    .dataframe tbody tr th {\n",
       "        vertical-align: top;\n",
       "    }\n",
       "\n",
       "    .dataframe thead th {\n",
       "        text-align: right;\n",
       "    }\n",
       "</style>\n",
       "<table border=\"1\" class=\"dataframe\">\n",
       "  <thead>\n",
       "    <tr style=\"text-align: right;\">\n",
       "      <th></th>\n",
       "      <th>PassengerId</th>\n",
       "      <th>Survived</th>\n",
       "      <th>Pclass</th>\n",
       "      <th>Name</th>\n",
       "      <th>Sex</th>\n",
       "      <th>Age</th>\n",
       "      <th>SibSp</th>\n",
       "      <th>Parch</th>\n",
       "      <th>Ticket</th>\n",
       "      <th>Fare</th>\n",
       "      <th>Cabin</th>\n",
       "      <th>Embarked</th>\n",
       "      <th>Status</th>\n",
       "      <th>Roomates</th>\n",
       "    </tr>\n",
       "  </thead>\n",
       "  <tbody>\n",
       "    <tr>\n",
       "      <td>245</td>\n",
       "      <td>246</td>\n",
       "      <td>False</td>\n",
       "      <td>1</td>\n",
       "      <td>Minahan, Dr. William Edward</td>\n",
       "      <td>male</td>\n",
       "      <td>44.00</td>\n",
       "      <td>2</td>\n",
       "      <td>0</td>\n",
       "      <td>19928</td>\n",
       "      <td>90.00</td>\n",
       "      <td>C78</td>\n",
       "      <td>Q</td>\n",
       "      <td>(40,60]</td>\n",
       "      <td>2.0</td>\n",
       "    </tr>\n",
       "    <tr>\n",
       "      <td>412</td>\n",
       "      <td>413</td>\n",
       "      <td>True</td>\n",
       "      <td>1</td>\n",
       "      <td>Minahan, Miss. Daisy E</td>\n",
       "      <td>female</td>\n",
       "      <td>33.00</td>\n",
       "      <td>1</td>\n",
       "      <td>0</td>\n",
       "      <td>19928</td>\n",
       "      <td>90.00</td>\n",
       "      <td>C78</td>\n",
       "      <td>Q</td>\n",
       "      <td>(17,40]</td>\n",
       "      <td>2.0</td>\n",
       "    </tr>\n",
       "    <tr>\n",
       "      <td>297</td>\n",
       "      <td>298</td>\n",
       "      <td>False</td>\n",
       "      <td>1</td>\n",
       "      <td>Allison, Miss. Helen Loraine</td>\n",
       "      <td>female</td>\n",
       "      <td>2.00</td>\n",
       "      <td>1</td>\n",
       "      <td>2</td>\n",
       "      <td>113781</td>\n",
       "      <td>151.55</td>\n",
       "      <td>C22 C26</td>\n",
       "      <td>S</td>\n",
       "      <td>[0,17]</td>\n",
       "      <td>3.0</td>\n",
       "    </tr>\n",
       "    <tr>\n",
       "      <td>305</td>\n",
       "      <td>306</td>\n",
       "      <td>True</td>\n",
       "      <td>1</td>\n",
       "      <td>Allison, Master. Hudson Trevor</td>\n",
       "      <td>male</td>\n",
       "      <td>0.92</td>\n",
       "      <td>1</td>\n",
       "      <td>2</td>\n",
       "      <td>113781</td>\n",
       "      <td>151.55</td>\n",
       "      <td>C22 C26</td>\n",
       "      <td>S</td>\n",
       "      <td>[0,17]</td>\n",
       "      <td>3.0</td>\n",
       "    </tr>\n",
       "    <tr>\n",
       "      <td>498</td>\n",
       "      <td>499</td>\n",
       "      <td>False</td>\n",
       "      <td>1</td>\n",
       "      <td>Allison, Mrs. Hudson J C (Bessie Waldo Daniels)</td>\n",
       "      <td>female</td>\n",
       "      <td>25.00</td>\n",
       "      <td>1</td>\n",
       "      <td>2</td>\n",
       "      <td>113781</td>\n",
       "      <td>151.55</td>\n",
       "      <td>C22 C26</td>\n",
       "      <td>S</td>\n",
       "      <td>(17,40]</td>\n",
       "      <td>3.0</td>\n",
       "    </tr>\n",
       "  </tbody>\n",
       "</table>\n",
       "</div>"
      ],
      "text/plain": [
       "     PassengerId  Survived Pclass  \\\n",
       "245          246     False      1   \n",
       "412          413      True      1   \n",
       "297          298     False      1   \n",
       "305          306      True      1   \n",
       "498          499     False      1   \n",
       "\n",
       "                                                Name     Sex    Age SibSp  \\\n",
       "245                      Minahan, Dr. William Edward    male  44.00     2   \n",
       "412                           Minahan, Miss. Daisy E  female  33.00     1   \n",
       "297                     Allison, Miss. Helen Loraine  female   2.00     1   \n",
       "305                   Allison, Master. Hudson Trevor    male   0.92     1   \n",
       "498  Allison, Mrs. Hudson J C (Bessie Waldo Daniels)  female  25.00     1   \n",
       "\n",
       "    Parch  Ticket    Fare    Cabin Embarked   Status  Roomates  \n",
       "245     0   19928   90.00      C78        Q  (40,60]       2.0  \n",
       "412     0   19928   90.00      C78        Q  (17,40]       2.0  \n",
       "297     2  113781  151.55  C22 C26        S   [0,17]       3.0  \n",
       "305     2  113781  151.55  C22 C26        S   [0,17]       3.0  \n",
       "498     2  113781  151.55  C22 C26        S  (17,40]       3.0  "
      ]
     },
     "execution_count": 96,
     "metadata": {},
     "output_type": "execute_result"
    }
   ],
   "source": [
    "# After the second plot : Roomates according to Embarked, there is a cabin of two people embarked at Q where one survived and others did not. \n",
    "#Furthermore after the first plot, there is a cabin of three people of the first class where 1 survived and others two did not  we can see their names with the following code:\n",
    "df_train[(df_train['Embarked'] == 'Q') & (df_train['Roomates'] == 2) | (df_train['Pclass'] == 1) & (df_train['Roomates'] == 3)].sort_values(by=['Roomates'])"
   ]
  },
  {
   "cell_type": "markdown",
   "metadata": {
    "slideshow": {
     "slide_type": "slide"
    }
   },
   "source": [
    "\n",
    "\n",
    "## Question: Missing `Cabin`  value and `Age`\n",
    "\n",
    "\n",
    "The `Cabin` column is `NaN` for many rows, how are\n",
    "those missing data distributed acrross the classes?\n",
    "\n",
    "Plot the age distribution with\n",
    "respect to the availability of the `Cabin` column (`Cabin.isna()`).\n",
    "\n",
    "### Answer\n"
   ]
  },
  {
   "cell_type": "code",
   "execution_count": 91,
   "metadata": {
    "ExecuteTime": {
     "end_time": "2020-02-23T15:19:43.423115Z",
     "start_time": "2020-02-23T15:19:42.453979Z"
    }
   },
   "outputs": [
    {
     "data": {
      "image/png": "[encoded data removed]",
      "text/plain": [
       "<Figure size 432x288 with 2 Axes>"
      ]
     },
     "metadata": {
      "needs_background": "light"
     },
     "output_type": "display_data"
    }
   ],
   "source": [
    "cabin_na = df_train[\"Cabin\"].isna()\n",
    "df_missing = df_train[cabin_na]\n",
    "df_not_missing = df_train[-cabin_na]\n",
    "fig, axes = plt.subplots(1,2,sharey = True)\n",
    "plt.suptitle(\"Countplot for non-missing and missing Cabin values of Pclass\")\n",
    "axes = axes.flatten()\n",
    "for ax,ndf in zip(axes,[\"missing\",\"non_missing\"]):\n",
    "    if ndf == \"missing\" :\n",
    "        ax.title.set_text('cabin_na')\n",
    "        sns.countplot(x = \"Pclass\", data = df_missing, ax = ax)\n",
    "    else:\n",
    "        ax.title.set_text('cabin_not_na')\n",
    "        sns.countplot(x = \"Pclass\", data = df_not_missing, ax = ax)\n",
    "#After those plots, we can see that most of 3_Pclass people have a missing cabin value and most of 1_Pclass people have a cabin value\n",
    "#Nous pouvons constater que les données associées au personne de la première classe sont correctement enregistrées. \n",
    "#Au contraire, les données associées aux personnes de la classe 3 sont largement manquantes par rapport aux autres classes."
   ]
  },
  {
   "cell_type": "code",
   "execution_count": 92,
   "metadata": {
    "ExecuteTime": {
     "end_time": "2020-02-23T15:19:49.873144Z",
     "start_time": "2020-02-23T15:19:48.624164Z"
    }
   },
   "outputs": [
    {
     "data": {
      "text/plain": [
       "<matplotlib.legend.Legend at 0x7f24ccf7d290>"
      ]
     },
     "execution_count": 92,
     "metadata": {},
     "output_type": "execute_result"
    },
    {
     "data": {
      "image/png": "[encoded data removed]",
      "text/plain": [
       "<Figure size 432x288 with 1 Axes>"
      ]
     },
     "metadata": {
      "needs_background": "light"
     },
     "output_type": "display_data"
    }
   ],
   "source": [
    "data = df_train[pd.notna(df_train['Age'])]\n",
    "cabin_na = data[\"Cabin\"].isna()\n",
    "df_missing = data[cabin_na]\n",
    "df_not_missing = data[-cabin_na]\n",
    "sns.distplot(df_missing[\"Age\"], label='cabin missing',kde = False)\n",
    "sns.distplot(df_not_missing[\"Age\"],label='cabin available', kde = False)\n",
    "plt.title(\"The age distribution with respect to the availability of the Cabin column\")\n",
    "plt.legend()"
   ]
  },
  {
   "cell_type": "markdown",
   "metadata": {
    "slideshow": {
     "slide_type": "slide"
    }
   },
   "source": [
    "\n",
    "\n",
    "## Question: Milking the `Name` column\n",
    "\n",
    "Column `Name` gathers different kind of information pertaining\n",
    "to a passenger: name, civility,\n",
    "and given name(s). For some female passengers, the apparent given names\n",
    "are actually the husband's name and the maidens name is indicated between\n",
    "parentheses.\n",
    "\n",
    "The information contained in the `Name` column Has to be extracted in a proper way:\n",
    "The string should be into three parts: the first one containing the name,\n",
    "the second one containing the civility  and, the last one\n",
    "possibly containing given names or given names plus maiden names. Passing is\n",
    "facilitated by the next observation: the name is followed by a comma, the\n",
    "civility is followed by a period. You may use regular expressions\n",
    "as providede by  module `re`  or module `regex`.\n",
    "\n",
    "\n",
    "- Split the information contained in `Name` into three columns `Name`, `Given_names`, and `Civility`.\n",
    "- Go one step further. Extract the *maiden name* and actual *given names* when information available.\n",
    "\n",
    "At the end of the day, column `Name` should contain the *maiden name* for married female passengers\n",
    "Column `Given_Names` should contain the real given names of the passenger, not the ones of the spouse.\n",
    "\n",
    "To learn more about Regular Expressions see the documentation\n",
    "of the [`re` module](https://docs.python.org/3/library/re.html#module-re)\n",
    "and the tutorial [Howto](https://docs.python.org/3/howto/regex.html#regex-howto)\n",
    "\n",
    "Understand the difference between a `string` and a `raw string`.\n",
    "\n"
   ]
  },
  {
   "cell_type": "code",
   "execution_count": null,
   "metadata": {
    "ExecuteTime": {
     "end_time": "2020-02-23T14:42:00.897119Z",
     "start_time": "2020-02-23T14:40:40.034Z"
    },
    "autoscroll": "auto",
    "options": {
     "caption": false,
     "complete": true,
     "display_data": true,
     "display_stream": true,
     "dpi": 200,
     "echo": true,
     "evaluate": false,
     "f_env": null,
     "f_pos": "htpb",
     "f_size": [
      6,
      4
     ],
     "f_spines": true,
     "fig": true,
     "include": true,
     "name": null,
     "option_string": "evaluate=False",
     "results": "verbatim",
     "term": false,
     "wrap": "output"
    },
    "slideshow": {
     "slide_type": "subslide"
    }
   },
   "outputs": [],
   "source": [
    "print(r\"\\n is not a newline\", \"\\nis a newline\\n\", \"\\\\\\\\n is not a newline\\n\")\n"
   ]
  },
  {
   "cell_type": "markdown",
   "metadata": {
    "slideshow": {
     "slide_type": "subslide"
    }
   },
   "source": [
    "\n",
    "### Answer\n",
    "\n"
   ]
  },
  {
   "cell_type": "code",
   "execution_count": null,
   "metadata": {
    "ExecuteTime": {
     "end_time": "2020-02-23T14:42:00.911295Z",
     "start_time": "2020-02-23T14:40:40.047Z"
    }
   },
   "outputs": [],
   "source": [
    "df_train"
   ]
  },
  {
   "cell_type": "code",
   "execution_count": 188,
   "metadata": {
    "ExecuteTime": {
     "end_time": "2020-02-23T16:24:30.588523Z",
     "start_time": "2020-02-23T16:24:30.539273Z"
    },
    "autoscroll": "auto",
    "options": {
     "caption": false,
     "complete": true,
     "display_data": true,
     "display_stream": true,
     "dpi": 200,
     "echo": true,
     "evaluate": false,
     "f_env": null,
     "f_pos": "htpb",
     "f_size": [
      6,
      4
     ],
     "f_spines": true,
     "fig": true,
     "include": true,
     "name": null,
     "option_string": "evaluate=False",
     "results": "verbatim",
     "term": false,
     "wrap": "output"
    },
    "slideshow": {
     "slide_type": "subslide"
    }
   },
   "outputs": [],
   "source": [
    "def get_value(i,list):\n",
    "    if i<len(list) and i!=\"\" : return list[i]\n",
    "    else : return np.nan\n",
    "def parse_name(s):\n",
    "    \"\"\"Parse name field in Titanic data frame.\n",
    "\n",
    "    ACHTUNG: there are some outliers with given names containing parenthsized items. Some people travelled under pseudonyms (see [Henry Samuel Morley](https://www.encyclopedia-titanica.org/titanic-victim/henry-samuel-morley.html)).\n",
    "    \"\"\"\n",
    "    name = s\n",
    "    civility, given_names, Spouse_name, Maiden_name, Pseudonymes = [],[],[],[],[]\n",
    "    # TODO:\n",
    "    for n in name :\n",
    "        if \"(\" in n :\n",
    "            chunks = re.split('[,.)(]',n)\n",
    "            Pseudonymes.append(get_value(3,chunks))\n",
    "            Maiden_name.append(np.nan)\n",
    "        else :\n",
    "            chunks = re.split('[,.\"]',n)\n",
    "            Maiden_name.append(get_value(3,chunks))\n",
    "            Pseudonymes.append(np.nan)\n",
    "        civility.append(get_value(1,chunks))\n",
    "        given_names.append(get_value(2,chunks))\n",
    "        Spouse_name.append(get_value(0,chunks))\n",
    "    return pd.DataFrame({'Name': name,\n",
    "            'Civility': civility,\n",
    "            'Given_names': given_names,\n",
    "            'Spouse_name': Spouse_name,\n",
    "            'Maiden_name': Maiden_name,\n",
    "            'Pseudonyme' : Pseudonymes})\n",
    "\n"
   ]
  },
  {
   "cell_type": "code",
   "execution_count": 189,
   "metadata": {
    "ExecuteTime": {
     "end_time": "2020-02-23T16:24:35.767255Z",
     "start_time": "2020-02-23T16:24:35.695687Z"
    }
   },
   "outputs": [],
   "source": [
    "data = parse_name(df_train[\"Name\"])\n",
    "data['Civility'] = data['Civility'].apply(lambda x : x.strip())"
   ]
  },
  {
   "cell_type": "code",
   "execution_count": 190,
   "metadata": {
    "ExecuteTime": {
     "end_time": "2020-02-23T16:24:37.884565Z",
     "start_time": "2020-02-23T16:24:37.800070Z"
    }
   },
   "outputs": [
    {
     "data": {
      "text/html": [
       "<div>\n",
       "<style scoped>\n",
       "    .dataframe tbody tr th:only-of-type {\n",
       "        vertical-align: middle;\n",
       "    }\n",
       "\n",
       "    .dataframe tbody tr th {\n",
       "        vertical-align: top;\n",
       "    }\n",
       "\n",
       "    .dataframe thead th {\n",
       "        text-align: right;\n",
       "    }\n",
       "</style>\n",
       "<table border=\"1\" class=\"dataframe\">\n",
       "  <thead>\n",
       "    <tr style=\"text-align: right;\">\n",
       "      <th></th>\n",
       "      <th>Name</th>\n",
       "      <th>Civility</th>\n",
       "      <th>Given_names</th>\n",
       "      <th>Spouse_name</th>\n",
       "      <th>Maiden_name</th>\n",
       "      <th>Pseudonyme</th>\n",
       "    </tr>\n",
       "  </thead>\n",
       "  <tbody>\n",
       "    <tr>\n",
       "      <td>0</td>\n",
       "      <td>Braund, Mr. Owen Harris</td>\n",
       "      <td>Mr</td>\n",
       "      <td>Owen Harris</td>\n",
       "      <td>Braund</td>\n",
       "      <td>NaN</td>\n",
       "      <td>NaN</td>\n",
       "    </tr>\n",
       "    <tr>\n",
       "      <td>1</td>\n",
       "      <td>Cumings, Mrs. John Bradley (Florence Briggs Th...</td>\n",
       "      <td>Mrs</td>\n",
       "      <td>John Bradley</td>\n",
       "      <td>Cumings</td>\n",
       "      <td>NaN</td>\n",
       "      <td>Florence Briggs Thayer</td>\n",
       "    </tr>\n",
       "    <tr>\n",
       "      <td>2</td>\n",
       "      <td>Heikkinen, Miss. Laina</td>\n",
       "      <td>Miss</td>\n",
       "      <td>Laina</td>\n",
       "      <td>Heikkinen</td>\n",
       "      <td>NaN</td>\n",
       "      <td>NaN</td>\n",
       "    </tr>\n",
       "    <tr>\n",
       "      <td>3</td>\n",
       "      <td>Futrelle, Mrs. Jacques Heath (Lily May Peel)</td>\n",
       "      <td>Mrs</td>\n",
       "      <td>Jacques Heath</td>\n",
       "      <td>Futrelle</td>\n",
       "      <td>NaN</td>\n",
       "      <td>Lily May Peel</td>\n",
       "    </tr>\n",
       "    <tr>\n",
       "      <td>4</td>\n",
       "      <td>Allen, Mr. William Henry</td>\n",
       "      <td>Mr</td>\n",
       "      <td>William Henry</td>\n",
       "      <td>Allen</td>\n",
       "      <td>NaN</td>\n",
       "      <td>NaN</td>\n",
       "    </tr>\n",
       "    <tr>\n",
       "      <td>...</td>\n",
       "      <td>...</td>\n",
       "      <td>...</td>\n",
       "      <td>...</td>\n",
       "      <td>...</td>\n",
       "      <td>...</td>\n",
       "      <td>...</td>\n",
       "    </tr>\n",
       "    <tr>\n",
       "      <td>886</td>\n",
       "      <td>Montvila, Rev. Juozas</td>\n",
       "      <td>Rev</td>\n",
       "      <td>Juozas</td>\n",
       "      <td>Montvila</td>\n",
       "      <td>NaN</td>\n",
       "      <td>NaN</td>\n",
       "    </tr>\n",
       "    <tr>\n",
       "      <td>887</td>\n",
       "      <td>Graham, Miss. Margaret Edith</td>\n",
       "      <td>Miss</td>\n",
       "      <td>Margaret Edith</td>\n",
       "      <td>Graham</td>\n",
       "      <td>NaN</td>\n",
       "      <td>NaN</td>\n",
       "    </tr>\n",
       "    <tr>\n",
       "      <td>888</td>\n",
       "      <td>Johnston, Miss. Catherine Helen \"Carrie\"</td>\n",
       "      <td>Miss</td>\n",
       "      <td>Catherine Helen</td>\n",
       "      <td>Johnston</td>\n",
       "      <td>Carrie</td>\n",
       "      <td>NaN</td>\n",
       "    </tr>\n",
       "    <tr>\n",
       "      <td>889</td>\n",
       "      <td>Behr, Mr. Karl Howell</td>\n",
       "      <td>Mr</td>\n",
       "      <td>Karl Howell</td>\n",
       "      <td>Behr</td>\n",
       "      <td>NaN</td>\n",
       "      <td>NaN</td>\n",
       "    </tr>\n",
       "    <tr>\n",
       "      <td>890</td>\n",
       "      <td>Dooley, Mr. Patrick</td>\n",
       "      <td>Mr</td>\n",
       "      <td>Patrick</td>\n",
       "      <td>Dooley</td>\n",
       "      <td>NaN</td>\n",
       "      <td>NaN</td>\n",
       "    </tr>\n",
       "  </tbody>\n",
       "</table>\n",
       "<p>891 rows × 6 columns</p>\n",
       "</div>"
      ],
      "text/plain": [
       "                                                  Name Civility  \\\n",
       "0                              Braund, Mr. Owen Harris       Mr   \n",
       "1    Cumings, Mrs. John Bradley (Florence Briggs Th...      Mrs   \n",
       "2                               Heikkinen, Miss. Laina     Miss   \n",
       "3         Futrelle, Mrs. Jacques Heath (Lily May Peel)      Mrs   \n",
       "4                             Allen, Mr. William Henry       Mr   \n",
       "..                                                 ...      ...   \n",
       "886                              Montvila, Rev. Juozas      Rev   \n",
       "887                       Graham, Miss. Margaret Edith     Miss   \n",
       "888           Johnston, Miss. Catherine Helen \"Carrie\"     Miss   \n",
       "889                              Behr, Mr. Karl Howell       Mr   \n",
       "890                                Dooley, Mr. Patrick       Mr   \n",
       "\n",
       "           Given_names Spouse_name Maiden_name              Pseudonyme  \n",
       "0          Owen Harris      Braund         NaN                     NaN  \n",
       "1        John Bradley      Cumings         NaN  Florence Briggs Thayer  \n",
       "2                Laina   Heikkinen         NaN                     NaN  \n",
       "3       Jacques Heath     Futrelle         NaN           Lily May Peel  \n",
       "4        William Henry       Allen         NaN                     NaN  \n",
       "..                 ...         ...         ...                     ...  \n",
       "886             Juozas    Montvila         NaN                     NaN  \n",
       "887     Margaret Edith      Graham         NaN                     NaN  \n",
       "888   Catherine Helen     Johnston      Carrie                     NaN  \n",
       "889        Karl Howell        Behr         NaN                     NaN  \n",
       "890            Patrick      Dooley         NaN                     NaN  \n",
       "\n",
       "[891 rows x 6 columns]"
      ]
     },
     "execution_count": 190,
     "metadata": {},
     "output_type": "execute_result"
    }
   ],
   "source": [
    "data"
   ]
  },
  {
   "cell_type": "markdown",
   "metadata": {
    "slideshow": {
     "slide_type": "slide"
    }
   },
   "source": [
    "\n",
    "## Question: about `map` objects\n",
    "\n",
    "What is a `map object`? Is it a sequence (list, tuple, etc)? Is it\n",
    "an `Iterable`? Something else? You may use function `isinstance` and\n",
    "submodule `collections.abc` to settle these questions?\n",
    "\n",
    "### Answer\n",
    "\n"
   ]
  },
  {
   "cell_type": "code",
   "execution_count": 113,
   "metadata": {
    "ExecuteTime": {
     "end_time": "2020-02-23T15:50:54.985692Z",
     "start_time": "2020-02-23T15:50:54.958743Z"
    },
    "autoscroll": "auto",
    "options": {
     "caption": false,
     "complete": true,
     "display_data": true,
     "display_stream": true,
     "dpi": 200,
     "echo": true,
     "evaluate": false,
     "f_env": null,
     "f_pos": "htpb",
     "f_size": [
      6,
      4
     ],
     "f_spines": true,
     "fig": true,
     "include": true,
     "name": null,
     "option_string": "evaluate=False",
     "results": "verbatim",
     "term": false,
     "wrap": "output"
    },
    "slideshow": {
     "slide_type": "subslide"
    }
   },
   "outputs": [
    {
     "data": {
      "text/plain": [
       "type"
      ]
     },
     "execution_count": 113,
     "metadata": {},
     "output_type": "execute_result"
    }
   ],
   "source": []
  },
  {
   "cell_type": "markdown",
   "metadata": {
    "slideshow": {
     "slide_type": "slide"
    }
   },
   "source": [
    "\n",
    "## Question: aristocrats on board\n",
    "\n",
    "Some passengers were of noble extraction, or officers in some Army.\n",
    "Point them.\n",
    "\n",
    "### Answer\n",
    "\n"
   ]
  },
  {
   "cell_type": "code",
   "execution_count": 191,
   "metadata": {
    "ExecuteTime": {
     "end_time": "2020-02-23T16:24:53.089967Z",
     "start_time": "2020-02-23T16:24:52.984533Z"
    }
   },
   "outputs": [
    {
     "data": {
      "text/html": [
       "<div>\n",
       "<style scoped>\n",
       "    .dataframe tbody tr th:only-of-type {\n",
       "        vertical-align: middle;\n",
       "    }\n",
       "\n",
       "    .dataframe tbody tr th {\n",
       "        vertical-align: top;\n",
       "    }\n",
       "\n",
       "    .dataframe thead th {\n",
       "        text-align: right;\n",
       "    }\n",
       "</style>\n",
       "<table border=\"1\" class=\"dataframe\">\n",
       "  <thead>\n",
       "    <tr style=\"text-align: right;\">\n",
       "      <th></th>\n",
       "      <th>Name</th>\n",
       "      <th>Civility</th>\n",
       "      <th>Given_names</th>\n",
       "      <th>Spouse_name</th>\n",
       "      <th>Maiden_name</th>\n",
       "      <th>Pseudonyme</th>\n",
       "    </tr>\n",
       "  </thead>\n",
       "  <tbody>\n",
       "    <tr>\n",
       "      <td>30</td>\n",
       "      <td>Uruchurtu, Don. Manuel E</td>\n",
       "      <td>Don</td>\n",
       "      <td>Manuel E</td>\n",
       "      <td>Uruchurtu</td>\n",
       "      <td>NaN</td>\n",
       "      <td>NaN</td>\n",
       "    </tr>\n",
       "    <tr>\n",
       "      <td>149</td>\n",
       "      <td>Byles, Rev. Thomas Roussel Davids</td>\n",
       "      <td>Rev</td>\n",
       "      <td>Thomas Roussel Davids</td>\n",
       "      <td>Byles</td>\n",
       "      <td>NaN</td>\n",
       "      <td>NaN</td>\n",
       "    </tr>\n",
       "    <tr>\n",
       "      <td>150</td>\n",
       "      <td>Bateman, Rev. Robert James</td>\n",
       "      <td>Rev</td>\n",
       "      <td>Robert James</td>\n",
       "      <td>Bateman</td>\n",
       "      <td>NaN</td>\n",
       "      <td>NaN</td>\n",
       "    </tr>\n",
       "    <tr>\n",
       "      <td>245</td>\n",
       "      <td>Minahan, Dr. William Edward</td>\n",
       "      <td>Dr</td>\n",
       "      <td>William Edward</td>\n",
       "      <td>Minahan</td>\n",
       "      <td>NaN</td>\n",
       "      <td>NaN</td>\n",
       "    </tr>\n",
       "    <tr>\n",
       "      <td>249</td>\n",
       "      <td>Carter, Rev. Ernest Courtenay</td>\n",
       "      <td>Rev</td>\n",
       "      <td>Ernest Courtenay</td>\n",
       "      <td>Carter</td>\n",
       "      <td>NaN</td>\n",
       "      <td>NaN</td>\n",
       "    </tr>\n",
       "    <tr>\n",
       "      <td>317</td>\n",
       "      <td>Moraweck, Dr. Ernest</td>\n",
       "      <td>Dr</td>\n",
       "      <td>Ernest</td>\n",
       "      <td>Moraweck</td>\n",
       "      <td>NaN</td>\n",
       "      <td>NaN</td>\n",
       "    </tr>\n",
       "    <tr>\n",
       "      <td>369</td>\n",
       "      <td>Aubart, Mme. Leontine Pauline</td>\n",
       "      <td>Mme</td>\n",
       "      <td>Leontine Pauline</td>\n",
       "      <td>Aubart</td>\n",
       "      <td>NaN</td>\n",
       "      <td>NaN</td>\n",
       "    </tr>\n",
       "    <tr>\n",
       "      <td>398</td>\n",
       "      <td>Pain, Dr. Alfred</td>\n",
       "      <td>Dr</td>\n",
       "      <td>Alfred</td>\n",
       "      <td>Pain</td>\n",
       "      <td>NaN</td>\n",
       "      <td>NaN</td>\n",
       "    </tr>\n",
       "    <tr>\n",
       "      <td>443</td>\n",
       "      <td>Reynaldo, Ms. Encarnacion</td>\n",
       "      <td>Ms</td>\n",
       "      <td>Encarnacion</td>\n",
       "      <td>Reynaldo</td>\n",
       "      <td>NaN</td>\n",
       "      <td>NaN</td>\n",
       "    </tr>\n",
       "    <tr>\n",
       "      <td>449</td>\n",
       "      <td>Peuchen, Major. Arthur Godfrey</td>\n",
       "      <td>Major</td>\n",
       "      <td>Arthur Godfrey</td>\n",
       "      <td>Peuchen</td>\n",
       "      <td>NaN</td>\n",
       "      <td>NaN</td>\n",
       "    </tr>\n",
       "    <tr>\n",
       "      <td>536</td>\n",
       "      <td>Butt, Major. Archibald Willingham</td>\n",
       "      <td>Major</td>\n",
       "      <td>Archibald Willingham</td>\n",
       "      <td>Butt</td>\n",
       "      <td>NaN</td>\n",
       "      <td>NaN</td>\n",
       "    </tr>\n",
       "    <tr>\n",
       "      <td>556</td>\n",
       "      <td>Duff Gordon, Lady. (Lucille Christiana Sutherl...</td>\n",
       "      <td>Lady</td>\n",
       "      <td></td>\n",
       "      <td>Duff Gordon</td>\n",
       "      <td>NaN</td>\n",
       "      <td>Lucille Christiana Sutherland</td>\n",
       "    </tr>\n",
       "    <tr>\n",
       "      <td>599</td>\n",
       "      <td>Duff Gordon, Sir. Cosmo Edmund (\"Mr Morgan\")</td>\n",
       "      <td>Sir</td>\n",
       "      <td>Cosmo Edmund</td>\n",
       "      <td>Duff Gordon</td>\n",
       "      <td>NaN</td>\n",
       "      <td>\"Mr Morgan\"</td>\n",
       "    </tr>\n",
       "    <tr>\n",
       "      <td>626</td>\n",
       "      <td>Kirkland, Rev. Charles Leonard</td>\n",
       "      <td>Rev</td>\n",
       "      <td>Charles Leonard</td>\n",
       "      <td>Kirkland</td>\n",
       "      <td>NaN</td>\n",
       "      <td>NaN</td>\n",
       "    </tr>\n",
       "    <tr>\n",
       "      <td>632</td>\n",
       "      <td>Stahelin-Maeglin, Dr. Max</td>\n",
       "      <td>Dr</td>\n",
       "      <td>Max</td>\n",
       "      <td>Stahelin-Maeglin</td>\n",
       "      <td>NaN</td>\n",
       "      <td>NaN</td>\n",
       "    </tr>\n",
       "    <tr>\n",
       "      <td>641</td>\n",
       "      <td>Sagesser, Mlle. Emma</td>\n",
       "      <td>Mlle</td>\n",
       "      <td>Emma</td>\n",
       "      <td>Sagesser</td>\n",
       "      <td>NaN</td>\n",
       "      <td>NaN</td>\n",
       "    </tr>\n",
       "    <tr>\n",
       "      <td>647</td>\n",
       "      <td>Simonius-Blumer, Col. Oberst Alfons</td>\n",
       "      <td>Col</td>\n",
       "      <td>Oberst Alfons</td>\n",
       "      <td>Simonius-Blumer</td>\n",
       "      <td>NaN</td>\n",
       "      <td>NaN</td>\n",
       "    </tr>\n",
       "    <tr>\n",
       "      <td>660</td>\n",
       "      <td>Frauenthal, Dr. Henry William</td>\n",
       "      <td>Dr</td>\n",
       "      <td>Henry William</td>\n",
       "      <td>Frauenthal</td>\n",
       "      <td>NaN</td>\n",
       "      <td>NaN</td>\n",
       "    </tr>\n",
       "    <tr>\n",
       "      <td>694</td>\n",
       "      <td>Weir, Col. John</td>\n",
       "      <td>Col</td>\n",
       "      <td>John</td>\n",
       "      <td>Weir</td>\n",
       "      <td>NaN</td>\n",
       "      <td>NaN</td>\n",
       "    </tr>\n",
       "    <tr>\n",
       "      <td>710</td>\n",
       "      <td>Mayne, Mlle. Berthe Antonine (\"Mrs de Villiers\")</td>\n",
       "      <td>Mlle</td>\n",
       "      <td>Berthe Antonine</td>\n",
       "      <td>Mayne</td>\n",
       "      <td>NaN</td>\n",
       "      <td>\"Mrs de Villiers\"</td>\n",
       "    </tr>\n",
       "    <tr>\n",
       "      <td>745</td>\n",
       "      <td>Crosby, Capt. Edward Gifford</td>\n",
       "      <td>Capt</td>\n",
       "      <td>Edward Gifford</td>\n",
       "      <td>Crosby</td>\n",
       "      <td>NaN</td>\n",
       "      <td>NaN</td>\n",
       "    </tr>\n",
       "    <tr>\n",
       "      <td>759</td>\n",
       "      <td>Rothes, the Countess. of (Lucy Noel Martha Dye...</td>\n",
       "      <td>the Countess</td>\n",
       "      <td>of</td>\n",
       "      <td>Rothes</td>\n",
       "      <td>NaN</td>\n",
       "      <td>Lucy Noel Martha Dyer-Edwards</td>\n",
       "    </tr>\n",
       "    <tr>\n",
       "      <td>766</td>\n",
       "      <td>Brewe, Dr. Arthur Jackson</td>\n",
       "      <td>Dr</td>\n",
       "      <td>Arthur Jackson</td>\n",
       "      <td>Brewe</td>\n",
       "      <td>NaN</td>\n",
       "      <td>NaN</td>\n",
       "    </tr>\n",
       "    <tr>\n",
       "      <td>796</td>\n",
       "      <td>Leader, Dr. Alice (Farnham)</td>\n",
       "      <td>Dr</td>\n",
       "      <td>Alice</td>\n",
       "      <td>Leader</td>\n",
       "      <td>NaN</td>\n",
       "      <td>Farnham</td>\n",
       "    </tr>\n",
       "    <tr>\n",
       "      <td>822</td>\n",
       "      <td>Reuchlin, Jonkheer. John George</td>\n",
       "      <td>Jonkheer</td>\n",
       "      <td>John George</td>\n",
       "      <td>Reuchlin</td>\n",
       "      <td>NaN</td>\n",
       "      <td>NaN</td>\n",
       "    </tr>\n",
       "    <tr>\n",
       "      <td>848</td>\n",
       "      <td>Harper, Rev. John</td>\n",
       "      <td>Rev</td>\n",
       "      <td>John</td>\n",
       "      <td>Harper</td>\n",
       "      <td>NaN</td>\n",
       "      <td>NaN</td>\n",
       "    </tr>\n",
       "    <tr>\n",
       "      <td>886</td>\n",
       "      <td>Montvila, Rev. Juozas</td>\n",
       "      <td>Rev</td>\n",
       "      <td>Juozas</td>\n",
       "      <td>Montvila</td>\n",
       "      <td>NaN</td>\n",
       "      <td>NaN</td>\n",
       "    </tr>\n",
       "  </tbody>\n",
       "</table>\n",
       "</div>"
      ],
      "text/plain": [
       "                                                  Name      Civility  \\\n",
       "30                            Uruchurtu, Don. Manuel E           Don   \n",
       "149                  Byles, Rev. Thomas Roussel Davids           Rev   \n",
       "150                         Bateman, Rev. Robert James           Rev   \n",
       "245                        Minahan, Dr. William Edward            Dr   \n",
       "249                      Carter, Rev. Ernest Courtenay           Rev   \n",
       "317                               Moraweck, Dr. Ernest            Dr   \n",
       "369                      Aubart, Mme. Leontine Pauline           Mme   \n",
       "398                                   Pain, Dr. Alfred            Dr   \n",
       "443                          Reynaldo, Ms. Encarnacion            Ms   \n",
       "449                     Peuchen, Major. Arthur Godfrey         Major   \n",
       "536                  Butt, Major. Archibald Willingham         Major   \n",
       "556  Duff Gordon, Lady. (Lucille Christiana Sutherl...          Lady   \n",
       "599       Duff Gordon, Sir. Cosmo Edmund (\"Mr Morgan\")           Sir   \n",
       "626                     Kirkland, Rev. Charles Leonard           Rev   \n",
       "632                          Stahelin-Maeglin, Dr. Max            Dr   \n",
       "641                               Sagesser, Mlle. Emma          Mlle   \n",
       "647                Simonius-Blumer, Col. Oberst Alfons           Col   \n",
       "660                      Frauenthal, Dr. Henry William            Dr   \n",
       "694                                    Weir, Col. John           Col   \n",
       "710   Mayne, Mlle. Berthe Antonine (\"Mrs de Villiers\")          Mlle   \n",
       "745                       Crosby, Capt. Edward Gifford          Capt   \n",
       "759  Rothes, the Countess. of (Lucy Noel Martha Dye...  the Countess   \n",
       "766                          Brewe, Dr. Arthur Jackson            Dr   \n",
       "796                        Leader, Dr. Alice (Farnham)            Dr   \n",
       "822                    Reuchlin, Jonkheer. John George      Jonkheer   \n",
       "848                                  Harper, Rev. John           Rev   \n",
       "886                              Montvila, Rev. Juozas           Rev   \n",
       "\n",
       "                Given_names       Spouse_name Maiden_name  \\\n",
       "30                 Manuel E         Uruchurtu         NaN   \n",
       "149   Thomas Roussel Davids             Byles         NaN   \n",
       "150            Robert James           Bateman         NaN   \n",
       "245          William Edward           Minahan         NaN   \n",
       "249        Ernest Courtenay            Carter         NaN   \n",
       "317                  Ernest          Moraweck         NaN   \n",
       "369        Leontine Pauline            Aubart         NaN   \n",
       "398                  Alfred              Pain         NaN   \n",
       "443             Encarnacion          Reynaldo         NaN   \n",
       "449          Arthur Godfrey           Peuchen         NaN   \n",
       "536    Archibald Willingham              Butt         NaN   \n",
       "556                               Duff Gordon         NaN   \n",
       "599           Cosmo Edmund        Duff Gordon         NaN   \n",
       "626         Charles Leonard          Kirkland         NaN   \n",
       "632                     Max  Stahelin-Maeglin         NaN   \n",
       "641                    Emma          Sagesser         NaN   \n",
       "647           Oberst Alfons   Simonius-Blumer         NaN   \n",
       "660           Henry William        Frauenthal         NaN   \n",
       "694                    John              Weir         NaN   \n",
       "710        Berthe Antonine              Mayne         NaN   \n",
       "745          Edward Gifford            Crosby         NaN   \n",
       "759                     of             Rothes         NaN   \n",
       "766          Arthur Jackson             Brewe         NaN   \n",
       "796                  Alice             Leader         NaN   \n",
       "822             John George          Reuchlin         NaN   \n",
       "848                    John            Harper         NaN   \n",
       "886                  Juozas          Montvila         NaN   \n",
       "\n",
       "                        Pseudonyme  \n",
       "30                             NaN  \n",
       "149                            NaN  \n",
       "150                            NaN  \n",
       "245                            NaN  \n",
       "249                            NaN  \n",
       "317                            NaN  \n",
       "369                            NaN  \n",
       "398                            NaN  \n",
       "443                            NaN  \n",
       "449                            NaN  \n",
       "536                            NaN  \n",
       "556  Lucille Christiana Sutherland  \n",
       "599                    \"Mr Morgan\"  \n",
       "626                            NaN  \n",
       "632                            NaN  \n",
       "641                            NaN  \n",
       "647                            NaN  \n",
       "660                            NaN  \n",
       "694                            NaN  \n",
       "710              \"Mrs de Villiers\"  \n",
       "745                            NaN  \n",
       "759  Lucy Noel Martha Dyer-Edwards  \n",
       "766                            NaN  \n",
       "796                        Farnham  \n",
       "822                            NaN  \n",
       "848                            NaN  \n",
       "886                            NaN  "
      ]
     },
     "execution_count": 191,
     "metadata": {},
     "output_type": "execute_result"
    }
   ],
   "source": [
    "data[(data['Civility'] != \"Mr\") & (data['Civility'] != \"Mrs\") & (data['Civility'] != \"Miss\") & (data['Civility'] != \"Master\") ]"
   ]
  },
  {
   "cell_type": "markdown",
   "metadata": {
    "slideshow": {
     "slide_type": "slide"
    }
   },
   "source": [
    "\n",
    "## Question: How many people are given Civility 'Mrs', 'Miss', 'Mr', 'Master'?\n",
    "\n",
    "\n",
    "### Answer\n",
    "\n"
   ]
  },
  {
   "cell_type": "code",
   "execution_count": 145,
   "metadata": {
    "ExecuteTime": {
     "end_time": "2020-02-23T16:07:35.457862Z",
     "start_time": "2020-02-23T16:07:35.396879Z"
    },
    "autoscroll": "auto",
    "options": {
     "caption": false,
     "complete": true,
     "display_data": true,
     "display_stream": true,
     "dpi": 200,
     "echo": true,
     "evaluate": false,
     "f_env": null,
     "f_pos": "htpb",
     "f_size": [
      6,
      4
     ],
     "f_spines": true,
     "fig": true,
     "include": true,
     "name": null,
     "option_string": "evaluate=False",
     "results": "verbatim",
     "term": false,
     "wrap": "output"
    },
    "slideshow": {
     "slide_type": "subslide"
    }
   },
   "outputs": [
    {
     "data": {
      "text/html": [
       "<div>\n",
       "<style scoped>\n",
       "    .dataframe tbody tr th:only-of-type {\n",
       "        vertical-align: middle;\n",
       "    }\n",
       "\n",
       "    .dataframe tbody tr th {\n",
       "        vertical-align: top;\n",
       "    }\n",
       "\n",
       "    .dataframe thead th {\n",
       "        text-align: right;\n",
       "    }\n",
       "</style>\n",
       "<table border=\"1\" class=\"dataframe\">\n",
       "  <thead>\n",
       "    <tr style=\"text-align: right;\">\n",
       "      <th></th>\n",
       "      <th>Name</th>\n",
       "      <th>Given_names</th>\n",
       "      <th>Spouse_name</th>\n",
       "      <th>Maiden_name</th>\n",
       "    </tr>\n",
       "    <tr>\n",
       "      <th>Civility</th>\n",
       "      <th></th>\n",
       "      <th></th>\n",
       "      <th></th>\n",
       "      <th></th>\n",
       "    </tr>\n",
       "  </thead>\n",
       "  <tbody>\n",
       "    <tr>\n",
       "      <td>Capt</td>\n",
       "      <td>1</td>\n",
       "      <td>1</td>\n",
       "      <td>1</td>\n",
       "      <td>0</td>\n",
       "    </tr>\n",
       "    <tr>\n",
       "      <td>Col</td>\n",
       "      <td>2</td>\n",
       "      <td>2</td>\n",
       "      <td>2</td>\n",
       "      <td>0</td>\n",
       "    </tr>\n",
       "    <tr>\n",
       "      <td>Don</td>\n",
       "      <td>1</td>\n",
       "      <td>1</td>\n",
       "      <td>1</td>\n",
       "      <td>0</td>\n",
       "    </tr>\n",
       "    <tr>\n",
       "      <td>Dr</td>\n",
       "      <td>7</td>\n",
       "      <td>7</td>\n",
       "      <td>7</td>\n",
       "      <td>1</td>\n",
       "    </tr>\n",
       "    <tr>\n",
       "      <td>Jonkheer</td>\n",
       "      <td>1</td>\n",
       "      <td>1</td>\n",
       "      <td>1</td>\n",
       "      <td>0</td>\n",
       "    </tr>\n",
       "    <tr>\n",
       "      <td>Lady</td>\n",
       "      <td>1</td>\n",
       "      <td>1</td>\n",
       "      <td>1</td>\n",
       "      <td>1</td>\n",
       "    </tr>\n",
       "    <tr>\n",
       "      <td>Major</td>\n",
       "      <td>2</td>\n",
       "      <td>2</td>\n",
       "      <td>2</td>\n",
       "      <td>0</td>\n",
       "    </tr>\n",
       "    <tr>\n",
       "      <td>Master</td>\n",
       "      <td>40</td>\n",
       "      <td>40</td>\n",
       "      <td>40</td>\n",
       "      <td>1</td>\n",
       "    </tr>\n",
       "    <tr>\n",
       "      <td>Miss</td>\n",
       "      <td>182</td>\n",
       "      <td>182</td>\n",
       "      <td>182</td>\n",
       "      <td>4</td>\n",
       "    </tr>\n",
       "    <tr>\n",
       "      <td>Mlle</td>\n",
       "      <td>2</td>\n",
       "      <td>2</td>\n",
       "      <td>2</td>\n",
       "      <td>1</td>\n",
       "    </tr>\n",
       "    <tr>\n",
       "      <td>Mme</td>\n",
       "      <td>1</td>\n",
       "      <td>1</td>\n",
       "      <td>1</td>\n",
       "      <td>0</td>\n",
       "    </tr>\n",
       "    <tr>\n",
       "      <td>Mr</td>\n",
       "      <td>517</td>\n",
       "      <td>517</td>\n",
       "      <td>517</td>\n",
       "      <td>12</td>\n",
       "    </tr>\n",
       "    <tr>\n",
       "      <td>Mrs</td>\n",
       "      <td>125</td>\n",
       "      <td>125</td>\n",
       "      <td>125</td>\n",
       "      <td>121</td>\n",
       "    </tr>\n",
       "    <tr>\n",
       "      <td>Ms</td>\n",
       "      <td>1</td>\n",
       "      <td>1</td>\n",
       "      <td>1</td>\n",
       "      <td>0</td>\n",
       "    </tr>\n",
       "    <tr>\n",
       "      <td>Rev</td>\n",
       "      <td>6</td>\n",
       "      <td>6</td>\n",
       "      <td>6</td>\n",
       "      <td>0</td>\n",
       "    </tr>\n",
       "    <tr>\n",
       "      <td>Sir</td>\n",
       "      <td>1</td>\n",
       "      <td>1</td>\n",
       "      <td>1</td>\n",
       "      <td>1</td>\n",
       "    </tr>\n",
       "    <tr>\n",
       "      <td>the Countess</td>\n",
       "      <td>1</td>\n",
       "      <td>1</td>\n",
       "      <td>1</td>\n",
       "      <td>1</td>\n",
       "    </tr>\n",
       "  </tbody>\n",
       "</table>\n",
       "</div>"
      ],
      "text/plain": [
       "               Name  Given_names  Spouse_name  Maiden_name\n",
       "Civility                                                  \n",
       " Capt             1            1            1            0\n",
       " Col              2            2            2            0\n",
       " Don              1            1            1            0\n",
       " Dr               7            7            7            1\n",
       " Jonkheer         1            1            1            0\n",
       " Lady             1            1            1            1\n",
       " Major            2            2            2            0\n",
       " Master          40           40           40            1\n",
       " Miss           182          182          182            4\n",
       " Mlle             2            2            2            1\n",
       " Mme              1            1            1            0\n",
       " Mr             517          517          517           12\n",
       " Mrs            125          125          125          121\n",
       " Ms               1            1            1            0\n",
       " Rev              6            6            6            0\n",
       " Sir              1            1            1            1\n",
       " the Countess     1            1            1            1"
      ]
     },
     "execution_count": 145,
     "metadata": {},
     "output_type": "execute_result"
    }
   ],
   "source": [
    "data.groupby([\"Civility\"]).count()\n",
    "# Miss : 182\n",
    "# Mr : 517\n",
    "# Mrs : 125\n",
    "# Master : 40 "
   ]
  },
  {
   "cell_type": "markdown",
   "metadata": {
    "slideshow": {
     "slide_type": "subslide"
    }
   },
   "source": [
    "\n",
    "ACHTUNG: there are some outliers with given names containing parenthsized items. Some people travelled under pseudonyms (see [Henry Samuel Morley](https://www.encyclopedia-titanica.org/titanic-victim/henry-samuel-morley.html)).\n",
    "\n"
   ]
  },
  {
   "cell_type": "code",
   "execution_count": 194,
   "metadata": {
    "ExecuteTime": {
     "end_time": "2020-02-23T16:26:21.427432Z",
     "start_time": "2020-02-23T16:26:21.389959Z"
    },
    "autoscroll": "auto",
    "options": {
     "caption": false,
     "complete": true,
     "display_data": true,
     "display_stream": true,
     "dpi": 200,
     "echo": true,
     "evaluate": false,
     "f_env": null,
     "f_pos": "htpb",
     "f_size": [
      6,
      4
     ],
     "f_spines": true,
     "fig": true,
     "include": true,
     "name": null,
     "option_string": "evaluate=False",
     "results": "verbatim",
     "term": false,
     "wrap": "output"
    },
    "slideshow": {
     "slide_type": "subslide"
    }
   },
   "outputs": [
    {
     "data": {
      "text/plain": [
       "0                         NaN\n",
       "1      Florence Briggs Thayer\n",
       "2                         NaN\n",
       "3               Lily May Peel\n",
       "4                         NaN\n",
       "                ...          \n",
       "886                       NaN\n",
       "887                       NaN\n",
       "888                       NaN\n",
       "889                       NaN\n",
       "890                       NaN\n",
       "Name: Pseudonyme, Length: 891, dtype: object"
      ]
     },
     "execution_count": 194,
     "metadata": {},
     "output_type": "execute_result"
    }
   ],
   "source": [
    "data[\"Pseudonyme\"]"
   ]
  },
  {
   "cell_type": "markdown",
   "metadata": {
    "slideshow": {
     "slide_type": "slide"
    }
   },
   "source": [
    "\n",
    "\n",
    "## Question:  For each embarkment and sex, visualize the survival ratio.\n",
    "\n",
    "\n",
    "### Answer\n",
    "\n"
   ]
  },
  {
   "cell_type": "code",
   "execution_count": 97,
   "metadata": {
    "ExecuteTime": {
     "end_time": "2020-02-23T15:23:20.408054Z",
     "start_time": "2020-02-23T15:23:20.332128Z"
    }
   },
   "outputs": [
    {
     "name": "stdout",
     "output_type": "stream",
     "text": [
      "Embarked  Sex   \n",
      "C         female    87.67\n",
      "          male      30.53\n",
      "Q         female    75.00\n",
      "          male       7.32\n",
      "S         female    68.97\n",
      "          male      17.46\n",
      "dtype: float64\n"
     ]
    }
   ],
   "source": [
    "def survived_ratio(col):\n",
    "    total = df_train.groupby([col,'Sex']).size().astype('float')\n",
    "    df = df_train[df_train[\"Survived\"]==1]\n",
    "    survived = df.groupby([col,'Sex']).size().astype('float')\n",
    "    print ((survived/total*100).round(2))\n",
    "    \n",
    "survived_ratio('Embarked')"
   ]
  },
  {
   "cell_type": "code",
   "execution_count": 98,
   "metadata": {
    "ExecuteTime": {
     "end_time": "2020-02-23T15:23:24.588974Z",
     "start_time": "2020-02-23T15:23:22.765774Z"
    },
    "autoscroll": "auto",
    "options": {
     "caption": false,
     "complete": true,
     "display_data": true,
     "display_stream": true,
     "dpi": 200,
     "echo": true,
     "evaluate": false,
     "f_env": null,
     "f_pos": "htpb",
     "f_size": [
      6,
      4
     ],
     "f_spines": true,
     "fig": true,
     "include": true,
     "name": null,
     "option_string": "evaluate=False",
     "results": "verbatim",
     "term": false,
     "wrap": "output"
    },
    "slideshow": {
     "slide_type": "subslide"
    }
   },
   "outputs": [
    {
     "data": {
      "image/png": "[encoded data removed]",
      "text/plain": [
       "<Figure size 1080x360 with 3 Axes>"
      ]
     },
     "metadata": {
      "needs_background": "light"
     },
     "output_type": "display_data"
    }
   ],
   "source": [
    "def my_plot(c,k):\n",
    "    sns.catplot(x=\"Sex\", y=\"Survived\",col=c,data=df_train,kind=k,ci=None)\n",
    "my_plot(\"Embarked\",\"bar\")"
   ]
  },
  {
   "cell_type": "markdown",
   "metadata": {
    "slideshow": {
     "slide_type": "slide"
    }
   },
   "source": [
    "\n",
    "## Question: for each `Pclass` and `Sex`, visualize the survival ratio,\n",
    "\n",
    "### Answer\n",
    "\n"
   ]
  },
  {
   "cell_type": "code",
   "execution_count": 99,
   "metadata": {
    "ExecuteTime": {
     "end_time": "2020-02-23T15:23:27.142007Z",
     "start_time": "2020-02-23T15:23:27.073091Z"
    }
   },
   "outputs": [
    {
     "name": "stdout",
     "output_type": "stream",
     "text": [
      "Pclass  Sex   \n",
      "1       female    96.81\n",
      "        male      36.89\n",
      "2       female    92.11\n",
      "        male      15.74\n",
      "3       female    50.00\n",
      "        male      13.54\n",
      "dtype: float64\n"
     ]
    }
   ],
   "source": [
    "survived_ratio('Pclass')"
   ]
  },
  {
   "cell_type": "code",
   "execution_count": 100,
   "metadata": {
    "ExecuteTime": {
     "end_time": "2020-02-23T15:23:31.162185Z",
     "start_time": "2020-02-23T15:23:29.302956Z"
    },
    "autoscroll": "auto",
    "options": {
     "caption": false,
     "complete": true,
     "display_data": true,
     "display_stream": true,
     "dpi": 200,
     "echo": true,
     "evaluate": false,
     "f_env": null,
     "f_pos": "htpb",
     "f_size": [
      6,
      4
     ],
     "f_spines": true,
     "fig": true,
     "include": true,
     "name": null,
     "option_string": "evaluate=False",
     "results": "verbatim",
     "term": false,
     "wrap": "output"
    },
    "slideshow": {
     "slide_type": "subslide"
    }
   },
   "outputs": [
    {
     "data": {
      "image/png": "[encoded data removed]",
      "text/plain": [
       "<Figure size 1080x360 with 3 Axes>"
      ]
     },
     "metadata": {
      "needs_background": "light"
     },
     "output_type": "display_data"
    }
   ],
   "source": [
    "my_plot(\"Pclass\",\"bar\")"
   ]
  },
  {
   "cell_type": "markdown",
   "metadata": {
    "slideshow": {
     "slide_type": "slide"
    }
   },
   "source": [
    "\n",
    "\n",
    "## Question: compute pairwise correlations between numerical columns.\n",
    "\n",
    "\n",
    "### Answer\n",
    "\n"
   ]
  },
  {
   "cell_type": "code",
   "execution_count": 102,
   "metadata": {
    "ExecuteTime": {
     "end_time": "2020-02-23T15:38:46.069815Z",
     "start_time": "2020-02-23T15:38:46.046707Z"
    }
   },
   "outputs": [],
   "source": [
    "numerical_cols = df_train.dtypes == 'float64'\n",
    "num = df_train.dtypes[numerical_cols].index"
   ]
  },
  {
   "cell_type": "code",
   "execution_count": 106,
   "metadata": {
    "ExecuteTime": {
     "end_time": "2020-02-23T15:42:29.605000Z",
     "start_time": "2020-02-23T15:42:29.543668Z"
    }
   },
   "outputs": [
    {
     "data": {
      "text/html": [
       "<div>\n",
       "<style scoped>\n",
       "    .dataframe tbody tr th:only-of-type {\n",
       "        vertical-align: middle;\n",
       "    }\n",
       "\n",
       "    .dataframe tbody tr th {\n",
       "        vertical-align: top;\n",
       "    }\n",
       "\n",
       "    .dataframe thead th {\n",
       "        text-align: right;\n",
       "    }\n",
       "</style>\n",
       "<table border=\"1\" class=\"dataframe\">\n",
       "  <thead>\n",
       "    <tr style=\"text-align: right;\">\n",
       "      <th></th>\n",
       "      <th>Age</th>\n",
       "      <th>Fare</th>\n",
       "      <th>Roomates</th>\n",
       "    </tr>\n",
       "  </thead>\n",
       "  <tbody>\n",
       "    <tr>\n",
       "      <td>Age</td>\n",
       "      <td>1.000000</td>\n",
       "      <td>0.096067</td>\n",
       "      <td>-0.366885</td>\n",
       "    </tr>\n",
       "    <tr>\n",
       "      <td>Fare</td>\n",
       "      <td>0.096067</td>\n",
       "      <td>1.000000</td>\n",
       "      <td>0.132166</td>\n",
       "    </tr>\n",
       "    <tr>\n",
       "      <td>Roomates</td>\n",
       "      <td>-0.366885</td>\n",
       "      <td>0.132166</td>\n",
       "      <td>1.000000</td>\n",
       "    </tr>\n",
       "  </tbody>\n",
       "</table>\n",
       "</div>"
      ],
      "text/plain": [
       "               Age      Fare  Roomates\n",
       "Age       1.000000  0.096067 -0.366885\n",
       "Fare      0.096067  1.000000  0.132166\n",
       "Roomates -0.366885  0.132166  1.000000"
      ]
     },
     "execution_count": 106,
     "metadata": {},
     "output_type": "execute_result"
    }
   ],
   "source": [
    "df_train[num].corr(method = 'pearson')"
   ]
  },
  {
   "cell_type": "code",
   "execution_count": 103,
   "metadata": {
    "ExecuteTime": {
     "end_time": "2020-02-23T15:39:00.186782Z",
     "start_time": "2020-02-23T15:38:49.363073Z"
    },
    "autoscroll": "auto",
    "options": {
     "caption": false,
     "complete": true,
     "display_data": true,
     "display_stream": true,
     "dpi": 200,
     "echo": true,
     "evaluate": false,
     "f_env": null,
     "f_pos": "htpb",
     "f_size": [
      6,
      4
     ],
     "f_spines": true,
     "fig": true,
     "include": true,
     "name": null,
     "option_string": "evaluate=False",
     "results": "verbatim",
     "term": false,
     "wrap": "output"
    },
    "slideshow": {
     "slide_type": "subslide"
    }
   },
   "outputs": [
    {
     "data": {
      "text/plain": [
       "<seaborn.axisgrid.PairGrid at 0x7f24be65b5d0>"
      ]
     },
     "execution_count": 103,
     "metadata": {},
     "output_type": "execute_result"
    },
    {
     "data": {
      "image/png": "[encoded data removed]",
      "text/plain": [
       "<Figure size 622.004x540 with 12 Axes>"
      ]
     },
     "metadata": {
      "needs_background": "light"
     },
     "output_type": "display_data"
    }
   ],
   "source": [
    "sns.pairplot(df_train,vars = num, hue = \"Survived\")"
   ]
  },
  {
   "cell_type": "markdown",
   "metadata": {
    "slideshow": {
     "slide_type": "slide"
    }
   },
   "source": [
    "\n",
    "\n",
    "## Pandas and SQL\n",
    "\n",
    "A systematic comparison between Pandas and SQL querying can be found\n",
    "at\n",
    "[https://pandas.pydata.org/pandas-docs/stable/getting_started/comparison/comparison_with_sql.html](https://pandas.pydata.org/pandas-docs/stable/getting_started/comparison/comparison_with_sql.html)\n",
    "\n",
    "\n",
    "## Pandas pipeliness\n",
    "\n",
    "Loading and transforming datasets is a cumbersome task. It is very likely that\n",
    "the sequence of transformations you have performed on the `train.csv`  dataset will\n",
    "be carried out on other datasets (just think about `test.csv`). For the sake of\n",
    "reproducibility, it is convenient to build a *transformation pipeline*.\n",
    "The `pipe` method for `DataFrame` class provides us with a means to do that.\n",
    "\n",
    "Pipelining DataFrame methods is easy, it is enough to write:\n",
    "\n"
   ]
  },
  {
   "cell_type": "code",
   "execution_count": null,
   "metadata": {
    "ExecuteTime": {
     "end_time": "2020-02-23T14:42:01.030759Z",
     "start_time": "2020-02-23T14:40:40.154Z"
    },
    "autoscroll": "auto",
    "options": {
     "caption": false,
     "complete": true,
     "display_data": true,
     "display_stream": true,
     "dpi": 200,
     "echo": true,
     "evaluate": false,
     "f_env": null,
     "f_pos": "htpb",
     "f_size": [
      6,
      4
     ],
     "f_spines": true,
     "fig": true,
     "include": true,
     "name": null,
     "option_string": "evaluate=False",
     "results": "verbatim",
     "term": false,
     "wrap": "output"
    },
    "slideshow": {
     "slide_type": "subslide"
    }
   },
   "outputs": [],
   "source": [
    "# df.meth1(arg11, arg12)\\\n",
    "#   .meth2(arg21)\\\n",
    "#   .meth3(arg31, arg32, arg33)\\\n",
    "#   ...\n"
   ]
  },
  {
   "cell_type": "markdown",
   "metadata": {
    "slideshow": {
     "slide_type": "slide"
    }
   },
   "source": [
    "\n",
    "### `pipe` method for class `DataFrame`\n",
    "\n",
    "\n",
    "The `pipe` method allows us to chain transformations implemented by functions.\n",
    "Pipelining ordinary functions can be done using the `pipe` method of\n",
    "class `DataFrame`.\n",
    "\n"
   ]
  },
  {
   "cell_type": "code",
   "execution_count": null,
   "metadata": {
    "autoscroll": "auto",
    "options": {
     "caption": false,
     "complete": true,
     "display_data": true,
     "display_stream": true,
     "dpi": 200,
     "echo": true,
     "evaluate": true,
     "f_env": null,
     "f_pos": "htpb",
     "f_size": [
      6,
      4
     ],
     "f_spines": true,
     "fig": true,
     "include": true,
     "name": null,
     "option_string": "",
     "results": "verbatim",
     "term": false,
     "wrap": "output"
    },
    "slideshow": {
     "slide_type": "subslide"
    }
   },
   "outputs": [],
   "source": []
  },
  {
   "cell_type": "markdown",
   "metadata": {
    "slideshow": {
     "slide_type": "slide"
    }
   },
   "source": [
    "\n",
    "\n",
    "### Module `pdpipe`\n",
    "\n",
    "Module [`pdpipe`](https://pdpipe.github.io/pdpipe/) is more ambitious.\n",
    "\n",
    "A *transformation pipeline* defines a sequence of operations that should be applied\n",
    "to a dataframe. In the `pdpipe` framework, it is an instance of class `pdpipe.PdPipeLine`\n",
    "\n"
   ]
  },
  {
   "cell_type": "markdown",
   "metadata": {
    "slideshow": {
     "slide_type": "slide"
    }
   },
   "source": [
    "\n",
    "\n",
    "## Question: use `pdpipe`\n",
    "\n",
    "Build a pipeline of transformatioms\n",
    "using the [pdpipe](https://pdpipe.github.io/pdpipe/doc/pdpipe/) module.\n",
    "\n",
    "### Answer\n",
    "\n"
   ]
  },
  {
   "cell_type": "markdown",
   "metadata": {
    "slideshow": {
     "slide_type": "slide"
    }
   },
   "source": [
    "\n",
    "\n",
    "## Miscellanea\n",
    "\n",
    "Browse the `seaborn` documentation in order to make up your\n",
    "mind on the following questions.\n",
    "\n",
    "1. What is a *hue*?\n",
    "1. Is the *colorPalette* part of style?\n",
    "1. What is a saturation channel?\n",
    "1. What is a saturation channel made for?\n",
    "1. What is an *aesthetic parameter*?\n",
    "1. What is the type of `seaborn.FacetGrid`?\n",
    "\n",
    "\n"
   ]
  },
  {
   "cell_type": "code",
   "execution_count": null,
   "metadata": {
    "ExecuteTime": {
     "end_time": "2020-02-23T14:42:01.044614Z",
     "start_time": "2020-02-23T14:40:40.169Z"
    }
   },
   "outputs": [],
   "source": [
    "#1 In seaborn, the hue parameter determines which column in the data frame should be used for colour encoding.\n",
    "#2 Yes.\n",
    "#3 A saturation channel is a channel for saturation handling.\n",
    "#4 The colorfulness is captured by a saturation channel. Colorfulness is the degree of difference between a color and gray. They were made for handling intensity of colors.\n",
    "#5 An aesthetic parameter is a parameter which allows us to change the visuals when rendering the plot. \n",
    "#6 Graphic"
   ]
  }
 ],
 "metadata": {
  "celltoolbar": "Slideshow",
  "kernel_info": {
   "name": "python3"
  },
  "kernelspec": {
   "display_name": "Python 3",
   "language": "python",
   "name": "python3"
  },
  "language_info": {
   "codemirror_mode": {
    "name": "ipython",
    "version": 3
   },
   "file_extension": ".py",
   "mimetype": "text/x-python",
   "name": "python",
   "nbconvert_exporter": "python",
   "pygments_lexer": "ipython3",
   "version": "3.7.5"
  },
  "nteract": {
   "version": "0.15.0"
  },
  "toc": {
   "base_numbering": 1,
   "nav_menu": {},
   "number_sections": true,
   "sideBar": true,
   "skip_h1_title": false,
   "title_cell": "Table of Contents",
   "title_sidebar": "Contents",
   "toc_cell": false,
   "toc_position": {
    "height": "calc(100% - 180px)",
    "left": "10px",
    "top": "150px",
    "width": "256px"
   },
   "toc_section_display": true,
   "toc_window_display": false
  }
 },
 "nbformat": 4,
 "nbformat_minor": 4
}
