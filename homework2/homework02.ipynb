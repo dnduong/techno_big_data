{
 "cells": [
  {
   "cell_type": "markdown",
   "metadata": {
    "format": "text/markdown"
   },
   "source": [
    "\n",
    "\n",
    "# Propaganda, start the `spark` session\n",
    "\n",
    "> For SQL users, Spark SQL provides state-of-the-art SQL performance and maintains compatibility with Shark/Hive. In particular, like Shark, Spark SQL supports all existing Hive data formats, user-defined functions (UDF), and the Hive metastore.\n",
    "\n",
    "> For Spark users, Spark SQL becomes the narrow-waist for manipulating (semi-) structured data as well as ingesting data from sources that provide schema, such as JSON, Parquet, Hive, or EDWs. It truly unifies SQL and sophisticated analysis, allowing users to mix and match SQL and more imperative programming APIs for advanced analytics.\n",
    "\n",
    "> For open source hackers, Spark SQL proposes a novel, elegant way of building query planners. It is incredibly easy to add new optimizations under this framework.\n",
    "\n",
    "> Internally, a structured query is a Catalyst tree of (logical and physical) relational operators and expressions.\n",
    "\n",
    "\n"
   ]
  },
  {
   "cell_type": "code",
   "execution_count": 2,
   "metadata": {
    "ExecuteTime": {
     "end_time": "2020-04-03T08:51:07.593931Z",
     "start_time": "2020-04-03T08:51:01.781623Z"
    },
    "autoscroll": "auto",
    "options": {
     "caption": false,
     "complete": true,
     "display_data": true,
     "display_stream": true,
     "dpi": 200,
     "echo": true,
     "evaluate": false,
     "f_env": null,
     "f_pos": "htpb",
     "f_size": [
      6,
      4
     ],
     "f_spines": true,
     "fig": true,
     "include": true,
     "name": null,
     "option_string": "evaluate=False",
     "results": "verbatim",
     "term": false,
     "wrap": "output"
    }
   },
   "outputs": [],
   "source": [
    "# import the usual suspects\n",
    "import pandas as pd\n",
    "import numpy as np\n",
    "import matplotlib.pyplot as plt\n",
    "import os\n",
    "from pathlib import Path\n",
    "import sys\n",
    "import timeit\n",
    "\n",
    "%matplotlib inline\n",
    "import seaborn as sns\n",
    "\n",
    "sns.set_context(\"notebook\", font_scale=1.2)"
   ]
  },
  {
   "cell_type": "markdown",
   "metadata": {
    "format": "text/markdown"
   },
   "source": [
    "During the session, we will use classes and functions exported by `pyspark`\n"
   ]
  },
  {
   "cell_type": "code",
   "execution_count": 1,
   "metadata": {
    "ExecuteTime": {
     "end_time": "2020-04-03T08:50:55.312074Z",
     "start_time": "2020-04-03T08:50:53.350833Z"
    },
    "autoscroll": "auto",
    "options": {
     "caption": false,
     "complete": true,
     "display_data": true,
     "display_stream": true,
     "dpi": 200,
     "echo": true,
     "evaluate": false,
     "f_env": null,
     "f_pos": "htpb",
     "f_size": [
      6,
      4
     ],
     "f_spines": true,
     "fig": true,
     "include": true,
     "name": null,
     "option_string": "evaluate=False",
     "results": "verbatim",
     "term": false,
     "wrap": "output"
    }
   },
   "outputs": [],
   "source": [
    "# spark\n",
    "from pyspark import SparkConf, SparkContext\n",
    "from pyspark.sql import SparkSession\n",
    "from pyspark.sql import Window\n",
    "from pyspark.sql.functions import col\n",
    "import pyspark.sql.functions as fn\n",
    "from pyspark.sql.catalog import Catalog\n",
    "from pyspark.sql.types import StructType, StructField\n",
    "from pyspark.sql.types import IntegerType, StringType"
   ]
  },
  {
   "cell_type": "markdown",
   "metadata": {},
   "source": [
    "Start the `SparkSession`"
   ]
  },
  {
   "cell_type": "code",
   "execution_count": 3,
   "metadata": {
    "ExecuteTime": {
     "end_time": "2020-04-03T08:52:15.947229Z",
     "start_time": "2020-04-03T08:51:42.513195Z"
    },
    "autoscroll": "auto",
    "options": {
     "caption": false,
     "complete": true,
     "display_data": true,
     "display_stream": true,
     "dpi": 200,
     "echo": true,
     "evaluate": false,
     "f_env": null,
     "f_pos": "htpb",
     "f_size": [
      6,
      4
     ],
     "f_spines": true,
     "fig": true,
     "include": true,
     "name": null,
     "option_string": "evaluate=False",
     "results": "verbatim",
     "term": false,
     "wrap": "output"
    }
   },
   "outputs": [],
   "source": [
    "conf = SparkConf().setAppName(\"Spark SQL Illustrations\")\n",
    "sc = SparkContext(conf=conf)\n",
    "\n",
    "spark = (SparkSession\n",
    "    .builder\n",
    "    .appName(\"Spark SQL\")\n",
    "    .getOrCreate()\n",
    ")"
   ]
  },
  {
   "cell_type": "markdown",
   "metadata": {
    "format": "text/markdown"
   },
   "source": [
    "US Baby Names 1880-2017\n",
    "=======================\n",
    "\n",
    "\n",
    "Description\n",
    ": US baby names provided by the SSA. \n",
    "\n",
    "This dataset contains all names used\n",
    "for at least 5 children of either sex during a year. \n",
    "\n",
    "\n",
    "The file is made of `1924665` lines and  4 columns.\n",
    "\n",
    "```\n",
    "|-- name: string (nullable = true)\n",
    "    |-- n: integer (nullable = true)\n",
    "    |-- sex: string (nullable = true)\n",
    "    |-- year: integer (nullable = true)\n",
    "```\n",
    "\n",
    "Each row indicates for a given name, sex, and year the number of babies \n",
    "of the given sex who were given that name during the given year. Names \n",
    "with less than 5 occurrences during the year were note recorded. \n",
    "\n",
    "|    name|  n|sex|year|\n",
    "|:--------|:---:|:---:|:----:|\n",
    "|  Emilia|112|  F|1985|\n",
    "|   Kelsi|112|  F|1985|\n",
    "|  Margot|112|  F|1985|\n",
    "|  Mariam|112|  F|1985|\n",
    "|Scarlett|112|  F|1985|\n",
    "\n",
    "First, we download the data if it's not there yet"
   ]
  },
  {
   "cell_type": "code",
   "execution_count": 4,
   "metadata": {
    "ExecuteTime": {
     "end_time": "2020-04-03T08:52:20.979585Z",
     "start_time": "2020-04-03T08:52:20.588576Z"
    }
   },
   "outputs": [],
   "source": [
    "import requests, zipfile, io\n",
    "from pathlib import Path\n",
    "\n",
    "path = Path('babynames_short.csv')\n",
    "if not path.exists():\n",
    "    url = \"https://stephanegaiffas.github.io/big_data_course/data/babynames_short.csv.zip\"\n",
    "    r = requests.get(url)\n",
    "    z = zipfile.ZipFile(io.BytesIO(r.content))\n",
    "    z.extractall(path='./')"
   ]
  },
  {
   "cell_type": "markdown",
   "metadata": {
    "format": "text/markdown"
   },
   "source": [
    "Load `babynames` from a `csv` file"
   ]
  },
  {
   "cell_type": "code",
   "execution_count": 5,
   "metadata": {
    "ExecuteTime": {
     "end_time": "2020-04-03T08:53:24.418704Z",
     "start_time": "2020-04-03T08:52:23.591221Z"
    },
    "autoscroll": "auto",
    "options": {
     "caption": false,
     "complete": true,
     "display_data": true,
     "display_stream": true,
     "dpi": 200,
     "echo": true,
     "evaluate": false,
     "f_env": null,
     "f_pos": "htpb",
     "f_size": [
      6,
      4
     ],
     "f_spines": true,
     "fig": true,
     "include": true,
     "name": null,
     "option_string": "evaluate=False",
     "results": "verbatim",
     "term": false,
     "wrap": "output"
    },
    "scrolled": false
   },
   "outputs": [
    {
     "name": "stdout",
     "output_type": "stream",
     "text": [
      "root\n",
      " |-- name: string (nullable = true)\n",
      " |-- n: integer (nullable = true)\n",
      " |-- sex: string (nullable = true)\n",
      " |-- year: double (nullable = true)\n",
      "\n"
     ]
    }
   ],
   "source": [
    "df_sp = spark.read\\\n",
    "             .format('csv')\\\n",
    "             .option(\"header\", \"true\")\\\n",
    "             .option(\"mode\", \"FAILFAST\")\\\n",
    "             .option(\"inferSchema\", \"true\")\\\n",
    "             .option(\"sep\", \",\")\\\n",
    "             .load(\"babynames_short.csv\")\n",
    "\n",
    "df_sp.printSchema()"
   ]
  },
  {
   "cell_type": "markdown",
   "metadata": {
    "format": "text/markdown"
   },
   "source": [
    "\n",
    "Ensure that the dataframe has the following schema:\n",
    "\n",
    "    root\n",
    "        |-- name: string (nullable = true)\n",
    "        |-- n: integer (nullable = true)\n",
    "        |-- sex: string (nullable = true)\n",
    "        |-- year: integer (nullable = true)\n",
    "\n",
    "\n"
   ]
  },
  {
   "cell_type": "code",
   "execution_count": 6,
   "metadata": {
    "ExecuteTime": {
     "end_time": "2020-04-03T08:53:24.638823Z",
     "start_time": "2020-04-03T08:53:24.425773Z"
    },
    "autoscroll": "auto",
    "options": {
     "caption": false,
     "complete": true,
     "display_data": true,
     "display_stream": true,
     "dpi": 200,
     "echo": true,
     "evaluate": false,
     "f_env": null,
     "f_pos": "htpb",
     "f_size": [
      6,
      4
     ],
     "f_spines": true,
     "fig": true,
     "include": true,
     "name": null,
     "option_string": "evaluate=False",
     "results": "verbatim",
     "term": false,
     "wrap": "output"
    }
   },
   "outputs": [
    {
     "name": "stdout",
     "output_type": "stream",
     "text": [
      "== Physical Plan ==\n",
      "*(1) FileScan csv [name#10,n#11,sex#12,year#13] Batched: false, Format: CSV, Location: InMemoryFileIndex[file:/opt/polynote/notebooks/homework/babynames_short.csv], PartitionFilters: [], PushedFilters: [], ReadSchema: struct<name:string,n:int,sex:string,year:double>\n"
     ]
    }
   ],
   "source": [
    "df_sp.explain()"
   ]
  },
  {
   "cell_type": "markdown",
   "metadata": {
    "format": "text/markdown"
   },
   "source": [
    "SQL versus spark-Dataframe API\n",
    "=================================\n",
    "\n",
    ">  Dataset API vs SQL\n",
    "\n",
    "> Spark SQL supports two \"modes\" to write structured queries: Dataset API and SQL. SQL Mode is used to express structured queries using SQL statements using SparkSession.sql operator, expr standard function and spark-sql command-line tool.\n",
    "\n",
    "> Some structured queries can be expressed much easier using Dataset API, but there are some that are only possible in SQL. In other words, you may find mixing Dataset API and SQL modes challenging yet rewarding.\n",
    "\n",
    "> What is important, and one of the reasons why Spark SQL has been so successful, is that there is no performance difference between the modes. Whatever mode you use to write your structured queries, they all end up as a tree of Catalyst relational data structures. And, yes, you could consider writing structured queries using Catalyst directly, but that could quickly become unwieldy for maintenance (i.e. finding Spark SQL developers who could be comfortable with it as well as being fairly low-level and therefore possibly too dependent on a specific Spark SQL version).\n",
    "\n",
    "Warmup:  compute the 10 most popular names given to babies in year 2000.\n",
    "======================================================================\n",
    "\n",
    "## Using `spark.sql()`\n",
    "\n",
    "In order to use mode `sql`, create a temporary view from the `DataFrame`.\n",
    "\n",
    "1. What are temporary views made of?\n",
    "1. Are there other kind of views in spark's world?"
   ]
  },
  {
   "cell_type": "code",
   "execution_count": 7,
   "metadata": {
    "ExecuteTime": {
     "end_time": "2020-04-03T08:57:12.948621Z",
     "start_time": "2020-04-03T08:57:10.535412Z"
    },
    "autoscroll": "auto",
    "options": {
     "caption": false,
     "complete": true,
     "display_data": true,
     "display_stream": true,
     "dpi": 200,
     "echo": true,
     "evaluate": false,
     "f_env": null,
     "f_pos": "htpb",
     "f_size": [
      6,
      4
     ],
     "f_spines": true,
     "fig": true,
     "include": true,
     "name": null,
     "option_string": "evaluate=False",
     "results": "verbatim",
     "term": false,
     "wrap": "output"
    }
   },
   "outputs": [
    {
     "data": {
      "text/plain": [
       "[]"
      ]
     },
     "execution_count": 7,
     "metadata": {},
     "output_type": "execute_result"
    }
   ],
   "source": [
    "Catalog(spark).listTables()"
   ]
  },
  {
   "cell_type": "code",
   "execution_count": 8,
   "metadata": {
    "ExecuteTime": {
     "end_time": "2020-04-03T08:57:15.789822Z",
     "start_time": "2020-04-03T08:57:12.968048Z"
    }
   },
   "outputs": [
    {
     "data": {
      "text/plain": [
       "[Table(name='baby_names', database=None, description=None, tableType='TEMPORARY', isTemporary=True)]"
      ]
     },
     "execution_count": 8,
     "metadata": {},
     "output_type": "execute_result"
    }
   ],
   "source": [
    "# TODO: \n",
    "df_sp.createOrReplaceTempView(\"baby_names\")\n",
    "Catalog(spark).listTables()"
   ]
  },
  {
   "cell_type": "markdown",
   "metadata": {
    "format": "text/markdown"
   },
   "source": [
    "\n",
    "## A query is a plain SQL query embodied in a string.\n",
    "\n"
   ]
  },
  {
   "cell_type": "code",
   "execution_count": 31,
   "metadata": {
    "ExecuteTime": {
     "end_time": "2020-03-10T10:37:52.797773Z",
     "start_time": "2020-03-10T10:37:37.181454Z"
    },
    "autoscroll": "auto",
    "options": {
     "caption": false,
     "complete": true,
     "display_data": true,
     "display_stream": true,
     "dpi": 200,
     "echo": true,
     "evaluate": false,
     "f_env": null,
     "f_pos": "htpb",
     "f_size": [
      6,
      4
     ],
     "f_spines": true,
     "fig": true,
     "include": true,
     "name": null,
     "option_string": "evaluate=False",
     "results": "verbatim",
     "term": false,
     "wrap": "output"
    }
   },
   "outputs": [
    {
     "name": "stdout",
     "output_type": "stream",
     "text": [
      "+-----------+-----+\n",
      "|       name|    n|\n",
      "+-----------+-----+\n",
      "|      Jacob|34471|\n",
      "|    Michael|32035|\n",
      "|    Matthew|28572|\n",
      "|     Joshua|27538|\n",
      "|      Emily|25953|\n",
      "|Christopher|24931|\n",
      "|   Nicholas|24652|\n",
      "|     Andrew|23639|\n",
      "|     Hannah|23080|\n",
      "|     Joseph|22825|\n",
      "+-----------+-----+\n",
      "\n"
     ]
    }
   ],
   "source": [
    "query = \"\"\"\n",
    "SELECT name,n\n",
    "FROM baby_names\n",
    "WHERE year = {0}\n",
    "ORDER BY n DESC\n",
    "LIMIT 10\n",
    "\"\"\"\n",
    "\n",
    "spark.sql(query.format(2000)).show()"
   ]
  },
  {
   "cell_type": "markdown",
   "metadata": {
    "format": "text/markdown"
   },
   "source": [
    "\n",
    "> This phrasing is not consistent with the DRY principle. Fix this using formatted strings.\n",
    "\n",
    "## Using the dataframe/dataset API\n",
    "\n",
    "This can also be done using Spark SQL API.\n",
    "\n",
    "### Pedestrian approach\n",
    "\n",
    "1. First select `10` most popular names for girls in year `2000`, define `spark` dataframe\n",
    "`top10_2000_f`.\n",
    "1. Does the definition of `top10_2000_f` involve _transformations_, _actions_ or both?\n",
    "1. What is the type of the result returned by `top10_2000_f.take(2)`? the type of elements of the result?\n",
    "\n"
   ]
  },
  {
   "cell_type": "code",
   "execution_count": 90,
   "metadata": {
    "ExecuteTime": {
     "end_time": "2020-04-03T14:54:57.233455Z",
     "start_time": "2020-04-03T14:54:39.526902Z"
    },
    "autoscroll": "auto",
    "options": {
     "caption": false,
     "complete": true,
     "display_data": true,
     "display_stream": true,
     "dpi": 200,
     "echo": true,
     "evaluate": false,
     "f_env": null,
     "f_pos": "htpb",
     "f_size": [
      6,
      4
     ],
     "f_spines": true,
     "fig": true,
     "include": true,
     "name": null,
     "option_string": "evaluate=False",
     "results": "verbatim",
     "term": false,
     "wrap": "output"
    }
   },
   "outputs": [
    {
     "name": "stdout",
     "output_type": "stream",
     "text": [
      "+---------+-----+---+------+\n",
      "|     name|    n|sex|  year|\n",
      "+---------+-----+---+------+\n",
      "|    Emily|25953|  F|2000.0|\n",
      "|   Hannah|23080|  F|2000.0|\n",
      "|  Madison|19967|  F|2000.0|\n",
      "|   Ashley|17997|  F|2000.0|\n",
      "|    Sarah|17697|  F|2000.0|\n",
      "|   Alexis|17629|  F|2000.0|\n",
      "| Samantha|17266|  F|2000.0|\n",
      "|  Jessica|15709|  F|2000.0|\n",
      "|Elizabeth|15094|  F|2000.0|\n",
      "|   Taylor|15078|  F|2000.0|\n",
      "+---------+-----+---+------+\n",
      "\n"
     ]
    }
   ],
   "source": [
    "# top10_2000_f = TODO:\n",
    "def create_top10(sex):\n",
    "    return df_sp.where('sex = '+sex+' AND year = 2000')\\\n",
    "                .orderBy(df_sp.n.desc())\\\n",
    "                .limit(10)\n",
    "\n",
    "top10_2000_f = create_top10('\"F\"')\n",
    "top10_2000_f.show()"
   ]
  },
  {
   "cell_type": "markdown",
   "metadata": {
    "format": "text/markdown"
   },
   "source": [
    "\n",
    "1. Do the same thing for boys.\n",
    "\n"
   ]
  },
  {
   "cell_type": "code",
   "execution_count": 91,
   "metadata": {
    "ExecuteTime": {
     "end_time": "2020-04-03T14:55:12.724970Z",
     "start_time": "2020-04-03T14:54:57.241071Z"
    },
    "autoscroll": "auto",
    "options": {
     "caption": false,
     "complete": true,
     "display_data": true,
     "display_stream": true,
     "dpi": 200,
     "echo": true,
     "evaluate": false,
     "f_env": null,
     "f_pos": "htpb",
     "f_size": [
      6,
      4
     ],
     "f_spines": true,
     "fig": true,
     "include": true,
     "name": null,
     "option_string": "evaluate=False",
     "results": "verbatim",
     "term": false,
     "wrap": "output"
    }
   },
   "outputs": [
    {
     "name": "stdout",
     "output_type": "stream",
     "text": [
      "+-----------+-----+---+------+\n",
      "|       name|    n|sex|  year|\n",
      "+-----------+-----+---+------+\n",
      "|      Jacob|34471|  M|2000.0|\n",
      "|    Michael|32035|  M|2000.0|\n",
      "|    Matthew|28572|  M|2000.0|\n",
      "|     Joshua|27538|  M|2000.0|\n",
      "|Christopher|24931|  M|2000.0|\n",
      "|   Nicholas|24652|  M|2000.0|\n",
      "|     Andrew|23639|  M|2000.0|\n",
      "|     Joseph|22825|  M|2000.0|\n",
      "|     Daniel|22312|  M|2000.0|\n",
      "|      Tyler|21503|  M|2000.0|\n",
      "+-----------+-----+---+------+\n",
      "\n"
     ]
    }
   ],
   "source": [
    "# top10_2000_m = TODO:\n",
    "top10_2000_m = create_top10('\"M\"')\n",
    "top10_2000_m.show()"
   ]
  },
  {
   "cell_type": "code",
   "execution_count": 52,
   "metadata": {
    "ExecuteTime": {
     "end_time": "2020-03-10T10:51:10.229628Z",
     "start_time": "2020-03-10T10:50:37.807996Z"
    },
    "autoscroll": "auto",
    "options": {
     "caption": false,
     "complete": true,
     "display_data": true,
     "display_stream": true,
     "dpi": 200,
     "echo": true,
     "evaluate": false,
     "f_env": null,
     "f_pos": "htpb",
     "f_size": [
      6,
      4
     ],
     "f_spines": true,
     "fig": true,
     "include": true,
     "name": null,
     "option_string": "evaluate=False",
     "results": "verbatim",
     "term": false,
     "wrap": "output"
    }
   },
   "outputs": [
    {
     "name": "stdout",
     "output_type": "stream",
     "text": [
      "+-----------+-----+---+------+\n",
      "|       name|    n|sex|  year|\n",
      "+-----------+-----+---+------+\n",
      "|      Emily|25953|  F|2000.0|\n",
      "|     Hannah|23080|  F|2000.0|\n",
      "|    Madison|19967|  F|2000.0|\n",
      "|     Ashley|17997|  F|2000.0|\n",
      "|      Sarah|17697|  F|2000.0|\n",
      "|     Alexis|17629|  F|2000.0|\n",
      "|   Samantha|17266|  F|2000.0|\n",
      "|    Jessica|15709|  F|2000.0|\n",
      "|  Elizabeth|15094|  F|2000.0|\n",
      "|     Taylor|15078|  F|2000.0|\n",
      "|      Jacob|34471|  M|2000.0|\n",
      "|    Michael|32035|  M|2000.0|\n",
      "|    Matthew|28572|  M|2000.0|\n",
      "|     Joshua|27538|  M|2000.0|\n",
      "|Christopher|24931|  M|2000.0|\n",
      "|   Nicholas|24652|  M|2000.0|\n",
      "|     Andrew|23639|  M|2000.0|\n",
      "|     Joseph|22825|  M|2000.0|\n",
      "|     Daniel|22312|  M|2000.0|\n",
      "|      Tyler|21503|  M|2000.0|\n",
      "+-----------+-----+---+------+\n",
      "\n"
     ]
    }
   ],
   "source": [
    "# top10_2000 = TODO:\n",
    "top10_2000 = top10_2000_f.union(top10_2000_m)\n",
    "top10_2000.show()"
   ]
  },
  {
   "cell_type": "markdown",
   "metadata": {
    "format": "text/markdown"
   },
   "source": [
    "\n",
    "### Do it again, complying  with DRY principle\n",
    "\n"
   ]
  },
  {
   "cell_type": "code",
   "execution_count": null,
   "metadata": {
    "ExecuteTime": {
     "end_time": "2020-03-09T13:24:57.142207Z",
     "start_time": "2020-03-09T13:24:57.139678Z"
    },
    "autoscroll": "auto",
    "options": {
     "caption": false,
     "complete": true,
     "display_data": true,
     "display_stream": true,
     "dpi": 200,
     "echo": true,
     "evaluate": false,
     "f_env": null,
     "f_pos": "htpb",
     "f_size": [
      6,
      4
     ],
     "f_spines": true,
     "fig": true,
     "include": true,
     "name": null,
     "option_string": "evaluate=False",
     "results": "verbatim",
     "term": false,
     "wrap": "output"
    }
   },
   "outputs": [],
   "source": [
    "# TODO:"
   ]
  },
  {
   "cell_type": "markdown",
   "metadata": {
    "format": "text/markdown"
   },
   "source": [
    "\n",
    "\n",
    "Name portfolio through ages\n",
    "===========================\n",
    "\n",
    "1. Compute for each year and sex the number of distinct names given that year.\n",
    "\n"
   ]
  },
  {
   "cell_type": "code",
   "execution_count": 68,
   "metadata": {
    "ExecuteTime": {
     "end_time": "2020-03-10T11:03:41.028394Z",
     "start_time": "2020-03-10T11:03:15.515613Z"
    },
    "autoscroll": "auto",
    "options": {
     "caption": false,
     "complete": true,
     "display_data": true,
     "display_stream": true,
     "dpi": 200,
     "echo": true,
     "evaluate": false,
     "f_env": null,
     "f_pos": "htpb",
     "f_size": [
      6,
      4
     ],
     "f_spines": true,
     "fig": true,
     "include": true,
     "name": null,
     "option_string": "evaluate=False",
     "results": "verbatim",
     "term": false,
     "wrap": "output"
    }
   },
   "outputs": [
    {
     "name": "stdout",
     "output_type": "stream",
     "text": [
      "+------+---+----------+\n",
      "|  year|sex|n_distinct|\n",
      "+------+---+----------+\n",
      "|1880.0|  F|       942|\n",
      "|1880.0|  M|      1058|\n",
      "|1881.0|  F|       938|\n",
      "|1881.0|  M|       997|\n",
      "|1882.0|  F|      1028|\n",
      "+------+---+----------+\n",
      "only showing top 5 rows\n",
      "\n"
     ]
    }
   ],
   "source": [
    "# nb_names_year_sex = TODO: \n",
    "nb_names_year_sex = df_sp.groupBy(col(\"year\"),col(\"sex\"))\\\n",
    "                        .agg(fn.count(col(\"name\")).alias(\"n_distinct\"))\\\n",
    "                        .orderBy(col(\"year\"),col(\"sex\"))\n",
    "nb_names_year_sex.show(5)"
   ]
  },
  {
   "cell_type": "markdown",
   "metadata": {
    "format": "text/markdown"
   },
   "source": [
    "\n",
    "1. Plot the evolution of the number of distinct names as a function of `year`.\n",
    "Use some aesthetics to distinguish sexes.\n",
    "\n",
    "\n"
   ]
  },
  {
   "cell_type": "code",
   "execution_count": 72,
   "metadata": {
    "ExecuteTime": {
     "end_time": "2020-03-10T11:16:19.014283Z",
     "start_time": "2020-03-10T11:16:12.672801Z"
    },
    "autoscroll": "auto",
    "options": {
     "caption": false,
     "complete": true,
     "display_data": true,
     "display_stream": true,
     "dpi": 200,
     "echo": true,
     "evaluate": false,
     "f_env": null,
     "f_pos": "htpb",
     "f_size": [
      6,
      4
     ],
     "f_spines": true,
     "fig": true,
     "include": true,
     "name": null,
     "option_string": "evaluate=False",
     "results": "verbatim",
     "term": false,
     "wrap": "output"
    }
   },
   "outputs": [
    {
     "data": {
      "image/png": "[encoded data removed]",
      "text/plain": [
       "<Figure size 432x288 with 1 Axes>"
      ]
     },
     "metadata": {},
     "output_type": "display_data"
    }
   ],
   "source": [
    "# TODO:\n",
    "nb_names_year_sex_pd = nb_names_year_sex.toPandas()\n",
    "\n",
    "sns.set()\n",
    "g = sns.lineplot(x = 'year',\n",
    "                 y = 'n_distinct',\n",
    "                 hue = 'sex',\n",
    "                 style = 'sex',\n",
    "                 data = nb_names_year_sex_pd)\n",
    "g.set_title(\"Number of distinct names\")\n",
    "plt.ylabel(\"Number of distinct given names\")\n",
    "plt.show(g)"
   ]
  },
  {
   "cell_type": "markdown",
   "metadata": {
    "format": "text/markdown"
   },
   "source": [
    "\n",
    "\n",
    "Assessing popularity through time\n",
    "=================================\n",
    "\n",
    "1. For each year and sex, compute the total number of births\n",
    "1. Plot the evolution of the sex ratio over time\n",
    "1. For each year, sex, and name compute the percentage of newborns\n",
    "given that name for that given year.\n",
    "\n",
    "\n",
    "> Use `Window` functions.\n",
    "\n"
   ]
  },
  {
   "cell_type": "code",
   "execution_count": 27,
   "metadata": {
    "ExecuteTime": {
     "end_time": "2020-04-03T10:34:09.843497Z",
     "start_time": "2020-04-03T10:32:52.827010Z"
    },
    "autoscroll": "auto",
    "options": {
     "caption": false,
     "complete": true,
     "display_data": true,
     "display_stream": true,
     "dpi": 200,
     "echo": true,
     "evaluate": false,
     "f_env": null,
     "f_pos": "htpb",
     "f_size": [
      6,
      4
     ],
     "f_spines": true,
     "fig": true,
     "include": true,
     "name": null,
     "option_string": "evaluate=False",
     "results": "verbatim",
     "term": false,
     "wrap": "output"
    }
   },
   "outputs": [
    {
     "name": "stdout",
     "output_type": "stream",
     "text": [
      "+------+------+------+\n",
      "|  year|     F|     M|\n",
      "+------+------+------+\n",
      "|1880.0| 90993|110491|\n",
      "|1881.0| 91953|100743|\n",
      "|1882.0|107847|113686|\n",
      "|1883.0|112319|104627|\n",
      "|1884.0|129020|114442|\n",
      "|1885.0|133055|107799|\n",
      "|1886.0|144533|110784|\n",
      "|1887.0|145981|101413|\n",
      "|1888.0|178622|120851|\n",
      "|1889.0|178366|110580|\n",
      "|1890.0|190376|111025|\n",
      "|1891.0|185481|101191|\n",
      "|1892.0|212339|122036|\n",
      "|1893.0|212905|112318|\n",
      "|1894.0|222921|115769|\n",
      "|1895.0|233627|117395|\n",
      "|1896.0|237918|119567|\n",
      "|1897.0|234200|112757|\n",
      "|1898.0|258768|122690|\n",
      "|1899.0|233023|106210|\n",
      "+------+------+------+\n",
      "only showing top 20 rows\n",
      "\n"
     ]
    }
   ],
   "source": [
    "# TODO:\n",
    "df_nb_birth = df_sp.dropDuplicates()\\\n",
    "                    .groupBy('year')\\\n",
    "                    .pivot('sex')\\\n",
    "                    .sum('n')\\\n",
    "                    .orderBy('year')\n",
    "df_nb_birth.show()"
   ]
  },
  {
   "cell_type": "markdown",
   "metadata": {
    "format": "text/markdown"
   },
   "source": [
    "\n",
    "\n"
   ]
  },
  {
   "cell_type": "code",
   "execution_count": 28,
   "metadata": {
    "ExecuteTime": {
     "end_time": "2020-04-03T10:37:59.792834Z",
     "start_time": "2020-04-03T10:36:44.539595Z"
    },
    "autoscroll": "auto",
    "options": {
     "caption": false,
     "complete": true,
     "display_data": true,
     "display_stream": true,
     "dpi": 200,
     "echo": true,
     "evaluate": false,
     "f_env": null,
     "f_pos": "htpb",
     "f_size": [
      6,
      4
     ],
     "f_spines": true,
     "fig": true,
     "include": true,
     "name": null,
     "option_string": "evaluate=False",
     "results": "verbatim",
     "term": false,
     "wrap": "output"
    },
    "scrolled": true
   },
   "outputs": [
    {
     "data": {
      "image/png": "[encoded data removed]",
      "text/plain": [
       "<Figure size 432x288 with 1 Axes>"
      ]
     },
     "metadata": {},
     "output_type": "display_data"
    }
   ],
   "source": [
    "# %%\n",
    "# TODO: plot sex ratio\n",
    "df_sex_ratio = df_nb_birth.withColumn(\"sex_ratio\",df_nb_birth.M/df_nb_birth.F)\n",
    "df_sex_ratio_pd = df_sex_ratio.toPandas()\n",
    "sns.set()\n",
    "g = sns.lineplot(x = 'year',\n",
    "                y = 'sex_ratio',\n",
    "                data = df_sex_ratio_pd)\n",
    "g.set_title('Ratio of male births with respect to female births')\n",
    "plt.ylabel('Sex ratio')\n",
    "plt.show(g)\n",
    "\n",
    "# %%"
   ]
  },
  {
   "cell_type": "code",
   "execution_count": 80,
   "metadata": {
    "ExecuteTime": {
     "end_time": "2020-04-03T14:45:03.702045Z",
     "start_time": "2020-04-03T14:44:31.689849Z"
    },
    "scrolled": true
   },
   "outputs": [
    {
     "name": "stdout",
     "output_type": "stream",
     "text": [
      "+---------+----+---+------+-----+------------------+\n",
      "|     name|   n|sex|  year|total|        percentage|\n",
      "+---------+----+---+------+-----+------------------+\n",
      "|   Carrie| 949|  F|1880.0|90993|1.0429373688085897|\n",
      "|    Clara|1226|  F|1880.0|90993| 1.347356390051982|\n",
      "|    Grace| 982|  F|1880.0|90993|1.0792038948050948|\n",
      "|      Ida|1472|  F|1880.0|90993|1.6177068565713846|\n",
      "|    Annie|1258|  F|1880.0|90993|1.3825239304122294|\n",
      "|     Cora|1045|  F|1880.0|90993|1.1484399898893323|\n",
      "|   Nellie| 995|  F|1880.0|90993|1.0934907080764456|\n",
      "|     Emma|2003|  F|1880.0|90993| 2.201268229424241|\n",
      "| Margaret|1578|  F|1880.0|90993|1.7341993340147046|\n",
      "|   Bertha|1320|  F|1880.0|90993|1.4506610398602091|\n",
      "|    Sarah|1288|  F|1880.0|90993|1.4154934994999615|\n",
      "|     Ella|1156|  F|1880.0|90993|1.2704273955139407|\n",
      "| Florence|1063|  F|1880.0|90993|1.1682217313419714|\n",
      "|   Martha|1040|  F|1880.0|90993|1.1429450617080434|\n",
      "|    Laura|1012|  F|1880.0|90993| 1.112173463892827|\n",
      "|     Mary|7065|  F|1880.0|90993| 7.764333520160892|\n",
      "|     Anna|2604|  F|1880.0|90993|2.8617585968151396|\n",
      "|Elizabeth|1939|  F|1880.0|90993|2.1309331487037464|\n",
      "|   Minnie|1746|  F|1880.0|90993|1.9188289209060037|\n",
      "|    Alice|1414|  F|1880.0|90993|1.5539656896684362|\n",
      "+---------+----+---+------+-----+------------------+\n",
      "only showing top 20 rows\n",
      "\n"
     ]
    }
   ],
   "source": [
    "window = Window.partitionBy('year','sex')\n",
    "df_percent = df_sp\\\n",
    "            .withColumn('total',fn.sum('n').over(window))\\\n",
    "            .withColumn('percentage', (fn.col('n')/fn.sum('n').over(window))*100)\\\n",
    "            .orderBy('year')\n",
    "df_percent.show()"
   ]
  },
  {
   "cell_type": "markdown",
   "metadata": {
    "format": "text/markdown"
   },
   "source": [
    "\n",
    "1. Compute for each year, sex and name  the `row_number`, `rank`, and `dense_rank`\n",
    "of the name within that year and sex category, when names are sorted by increasing popularity.\n",
    "\n"
   ]
  },
  {
   "cell_type": "code",
   "execution_count": 32,
   "metadata": {
    "ExecuteTime": {
     "end_time": "2020-04-03T12:12:20.100121Z",
     "start_time": "2020-04-03T12:12:00.211359Z"
    },
    "autoscroll": "auto",
    "options": {
     "caption": false,
     "complete": true,
     "display_data": true,
     "display_stream": true,
     "dpi": 200,
     "echo": true,
     "evaluate": false,
     "f_env": null,
     "f_pos": "htpb",
     "f_size": [
      6,
      4
     ],
     "f_spines": true,
     "fig": true,
     "include": true,
     "name": null,
     "option_string": "evaluate=False",
     "results": "verbatim",
     "term": false,
     "wrap": "output"
    }
   },
   "outputs": [
    {
     "name": "stdout",
     "output_type": "stream",
     "text": [
      "+--------+---+---+------+----------+----+----------+\n",
      "|    name|  n|sex|  year|row_number|rank|dense_rank|\n",
      "+--------+---+---+------+----------+----+----------+\n",
      "|  Abbott|  5|  M|1930.0|         1|   1|         1|\n",
      "|    Acel|  5|  M|1930.0|         2|   1|         1|\n",
      "|   Adams|  5|  M|1930.0|         3|   1|         1|\n",
      "|Agostino|  5|  M|1930.0|         4|   1|         1|\n",
      "|   Albie|  5|  M|1930.0|         5|   1|         1|\n",
      "| Alcario|  5|  M|1930.0|         6|   1|         1|\n",
      "|    Alen|  5|  M|1930.0|         7|   1|         1|\n",
      "| Alessio|  5|  M|1930.0|         8|   1|         1|\n",
      "| Alfanso|  5|  M|1930.0|         9|   1|         1|\n",
      "| Alfonsa|  5|  M|1930.0|        10|   1|         1|\n",
      "|    Alga|  5|  M|1930.0|        11|   1|         1|\n",
      "|    Alix|  5|  M|1930.0|        12|   1|         1|\n",
      "|   Alley|  5|  M|1930.0|        13|   1|         1|\n",
      "|   Almer|  5|  M|1930.0|        14|   1|         1|\n",
      "|Alphonsa|  5|  M|1930.0|        15|   1|         1|\n",
      "|   Alter|  5|  M|1930.0|        16|   1|         1|\n",
      "|  Alvert|  5|  M|1930.0|        17|   1|         1|\n",
      "|  Alvine|  5|  M|1930.0|        18|   1|         1|\n",
      "|   Ammie|  5|  M|1930.0|        19|   1|         1|\n",
      "|     Ana|  5|  M|1930.0|        20|   1|         1|\n",
      "+--------+---+---+------+----------+----+----------+\n",
      "only showing top 20 rows\n",
      "\n"
     ]
    }
   ],
   "source": [
    "# TODO:\n",
    "window = Window.partitionBy('year','sex').orderBy(df_sp.n.asc())\n",
    "rank = fn.rank().over(window)\n",
    "dense_rank = fn.dense_rank().over(window)\n",
    "row_number = fn.row_number().over(window)\n",
    "df_sp\\\n",
    "    .withColumn('row_number',row_number)\\\n",
    "    .withColumn('rank',rank)\\\n",
    "    .withColumn('dense_rank',dense_rank)\\\n",
    "    .show()"
   ]
  },
  {
   "cell_type": "markdown",
   "metadata": {
    "format": "text/markdown"
   },
   "source": [
    "\n",
    "\n",
    "\n",
    "Evolution of top popular names through the century\n",
    "==================================================\n",
    "\n",
    "\n",
    "1. For each sex, select the ten most popular names in year 2000, and plot the proportion\n",
    "of newborns given that name over time. Take into account that some names might have\n",
    "zero occurrence during certain years.\n",
    "\n"
   ]
  },
  {
   "cell_type": "code",
   "execution_count": 167,
   "metadata": {
    "ExecuteTime": {
     "end_time": "2020-04-03T16:28:14.858610Z",
     "start_time": "2020-04-03T16:27:19.314615Z"
    },
    "autoscroll": "auto",
    "options": {
     "caption": false,
     "complete": true,
     "display_data": true,
     "display_stream": true,
     "dpi": 200,
     "echo": true,
     "evaluate": false,
     "f_env": null,
     "f_pos": "htpb",
     "f_size": [
      6,
      4
     ],
     "f_spines": true,
     "fig": true,
     "include": true,
     "name": null,
     "option_string": "evaluate=False",
     "results": "verbatim",
     "term": false,
     "wrap": "output"
    }
   },
   "outputs": [
    {
     "data": {
      "image/png": "[encoded data removed]",
      "text/plain": [
       "<Figure size 815.975x360 with 2 Axes>"
      ]
     },
     "metadata": {},
     "output_type": "display_data"
    }
   ],
   "source": [
    "# TODO:\n",
    "def proptop10_plot(sexe) : \n",
    "    if sexe == \"female\" : name = top10_2000_f.toPandas().name\n",
    "    if sexe == \"male\" : name = top10_2000_m.toPandas().name\n",
    "    name = \"','\".join(name)\n",
    "    df_top10 = df_percent.where(\"name in ('\"+name+\"')\")\n",
    "    df_top10_pd = df_top10.toPandas()\n",
    "\n",
    "    sns.set()\n",
    "    g = sns.relplot(x = 'year',\n",
    "                y = 'percentage',\n",
    "                hue = 'name',\n",
    "                col = 'sex',\n",
    "                kind = 'line',\n",
    "                facet_kws=dict(sharex =True,sharey= False),\n",
    "                data = df_top10_pd)\n",
    "    plt.subplots_adjust(top=0.8)\n",
    "    g.fig.suptitle('proportion of newborns given top 10 ' + sexe +' name in 2000 over time')\n",
    "    \n",
    "proptop10_plot('female')"
   ]
  },
  {
   "cell_type": "code",
   "execution_count": 168,
   "metadata": {
    "ExecuteTime": {
     "end_time": "2020-04-03T16:29:10.289675Z",
     "start_time": "2020-04-03T16:28:14.867405Z"
    }
   },
   "outputs": [
    {
     "data": {
      "image/png": "[encoded data removed]",
      "text/plain": [
       "<Figure size 824.35x360 with 2 Axes>"
      ]
     },
     "metadata": {},
     "output_type": "display_data"
    }
   ],
   "source": [
    "# TODO:\n",
    "proptop10_plot('male')"
   ]
  },
  {
   "cell_type": "markdown",
   "metadata": {
    "format": "text/markdown"
   },
   "source": [
    "\n",
    "1. Use `explain()` to determine the joining strategy used by spark.\n",
    "\n",
    "\n",
    "Plot  the popularity of each of the top ten achievers from year 2000 with respect to time\n",
    "==================================================================================\n",
    "\n",
    "\n"
   ]
  },
  {
   "cell_type": "code",
   "execution_count": null,
   "metadata": {
    "ExecuteTime": {
     "end_time": "2020-03-09T13:25:00.680650Z",
     "start_time": "2020-03-09T13:25:00.677469Z"
    },
    "autoscroll": "auto",
    "options": {
     "caption": false,
     "complete": true,
     "display_data": true,
     "display_stream": true,
     "dpi": 200,
     "echo": true,
     "evaluate": false,
     "f_env": null,
     "f_pos": "htpb",
     "f_size": [
      6,
      4
     ],
     "f_spines": true,
     "fig": true,
     "include": true,
     "name": null,
     "option_string": "evaluate=False",
     "results": "verbatim",
     "term": false,
     "wrap": "output"
    }
   },
   "outputs": [],
   "source": [
    "# %%\n",
    "# TODO:\n",
    "# %%"
   ]
  },
  {
   "cell_type": "markdown",
   "metadata": {
    "format": "text/markdown"
   },
   "source": [
    "\n",
    "\n",
    "Plot the total popularity of the top ten achievers from year 2000 with respect to time\n",
    "==================================================================================\n",
    "\n",
    "\n"
   ]
  },
  {
   "cell_type": "code",
   "execution_count": null,
   "metadata": {
    "ExecuteTime": {
     "end_time": "2020-03-09T13:25:00.924571Z",
     "start_time": "2020-03-09T13:25:00.917339Z"
    },
    "autoscroll": "auto",
    "options": {
     "caption": false,
     "complete": true,
     "display_data": true,
     "display_stream": true,
     "dpi": 200,
     "echo": true,
     "evaluate": false,
     "f_env": null,
     "f_pos": "htpb",
     "f_size": [
      6,
      4
     ],
     "f_spines": true,
     "fig": true,
     "include": true,
     "name": null,
     "option_string": "evaluate=False",
     "results": "verbatim",
     "term": false,
     "wrap": "output"
    }
   },
   "outputs": [],
   "source": [
    "# %%\n",
    "# TODO:\n",
    "\n",
    "# %%"
   ]
  },
  {
   "cell_type": "markdown",
   "metadata": {
    "format": "text/markdown"
   },
   "source": [
    "\n",
    "\n",
    "Plot lorenz curves\n",
    "=====================\n",
    "\n",
    "Every year, the name counts define a discrete probability distribution.\n",
    "This distribution, just as income or wealth distribution,\n",
    "is (usually) far from being uniform. We want to assess how uneven it is.\n",
    "We use the tools developed in econometrics.\n",
    "\n",
    "Without loss of generality, that we handle a distribution over $1, \\ldots, n$\n",
    "where $n$ is the number of distinct names given during a year.\n",
    "We assume that frequencies $p_1, p_2, \\ldots, p_n$ are given in ascending order.\n",
    "\n",
    "The Lorenz function maps $[0, 1] \\to [0, 1]$.\n",
    "$$L(x) = \\sum_{i=1}^{\\lfloor nx \\rfloor} p_i$$.\n",
    "\n",
    "1. Design a query that adds a column \"lorenz\" to the dataframe , and for each\n",
    "row computes the value of the Lorenz function defined by `year`  and `sex`.\n",
    "\n",
    "\n"
   ]
  },
  {
   "cell_type": "code",
   "execution_count": null,
   "metadata": {
    "ExecuteTime": {
     "end_time": "2020-03-09T13:25:01.172487Z",
     "start_time": "2020-03-09T13:25:01.169864Z"
    },
    "autoscroll": "auto",
    "options": {
     "caption": false,
     "complete": true,
     "display_data": true,
     "display_stream": true,
     "dpi": 200,
     "echo": true,
     "evaluate": false,
     "f_env": null,
     "f_pos": "htpb",
     "f_size": [
      6,
      4
     ],
     "f_spines": true,
     "fig": true,
     "include": true,
     "name": null,
     "option_string": "evaluate=False",
     "results": "verbatim",
     "term": false,
     "wrap": "output"
    }
   },
   "outputs": [],
   "source": [
    "# TODO:"
   ]
  },
  {
   "cell_type": "markdown",
   "metadata": {
    "format": "text/markdown"
   },
   "source": [
    "\n",
    "\n",
    "1. Design a function that takes as input a `year` and plots the Lorenz curve\n",
    "for that year for both sexes.\n",
    "\n"
   ]
  },
  {
   "cell_type": "code",
   "execution_count": null,
   "metadata": {
    "ExecuteTime": {
     "end_time": "2020-03-09T13:25:01.435478Z",
     "start_time": "2020-03-09T13:25:01.432499Z"
    },
    "autoscroll": "auto",
    "options": {
     "caption": false,
     "complete": true,
     "display_data": true,
     "display_stream": true,
     "dpi": 200,
     "echo": true,
     "evaluate": false,
     "f_env": null,
     "f_pos": "htpb",
     "f_size": [
      6,
      4
     ],
     "f_spines": true,
     "fig": true,
     "include": true,
     "name": null,
     "option_string": "evaluate=False",
     "results": "verbatim",
     "term": false,
     "wrap": "output"
    }
   },
   "outputs": [],
   "source": [
    "# %%\n",
    "# TODO:\n",
    "# %%"
   ]
  },
  {
   "cell_type": "markdown",
   "metadata": {
    "format": "text/markdown"
   },
   "source": [
    "\n",
    "Gini index\n",
    "==========\n",
    "\n",
    "The [Gini index](https://en.wikipedia.org/wiki/Gini_coefficient) is twice the surface of the area comprised between curves $y=x$\n",
    "and $y=L(x)$.\n",
    "\n",
    "Choose a formula that allows you to compute it efficiently.\n",
    "\n",
    "$$G={\\frac {2\\sum _{i=1}^{n}iy_{i}}{n\\sum _{i=1}^{n}y_{i}}}-{\\frac {n+1}{n}}.$$\n",
    "\n",
    "1. Design a query that computes the Gini index of the `babynames` distribution\n",
    "for every `year` and `sex`.\n",
    "\n",
    "1. Plot Gini index over time\n",
    "\n",
    "\n"
   ]
  },
  {
   "cell_type": "code",
   "execution_count": null,
   "metadata": {
    "ExecuteTime": {
     "end_time": "2020-03-09T13:25:01.689514Z",
     "start_time": "2020-03-09T13:25:01.686509Z"
    },
    "autoscroll": "auto",
    "options": {
     "caption": false,
     "complete": true,
     "display_data": true,
     "display_stream": true,
     "dpi": 200,
     "echo": true,
     "evaluate": false,
     "f_env": null,
     "f_pos": "htpb",
     "f_size": [
      6,
      4
     ],
     "f_spines": true,
     "fig": true,
     "include": true,
     "name": null,
     "option_string": "evaluate=False",
     "results": "verbatim",
     "term": false,
     "wrap": "output"
    }
   },
   "outputs": [],
   "source": [
    "# TODO:"
   ]
  },
  {
   "cell_type": "markdown",
   "metadata": {
    "format": "text/markdown"
   },
   "source": [
    "\n",
    "\n"
   ]
  },
  {
   "cell_type": "code",
   "execution_count": null,
   "metadata": {
    "ExecuteTime": {
     "end_time": "2020-03-09T13:25:01.959724Z",
     "start_time": "2020-03-09T13:25:01.957043Z"
    },
    "autoscroll": "auto",
    "options": {
     "caption": false,
     "complete": true,
     "display_data": true,
     "display_stream": true,
     "dpi": 200,
     "echo": true,
     "evaluate": false,
     "f_env": null,
     "f_pos": "htpb",
     "f_size": [
      6,
      4
     ],
     "f_spines": true,
     "fig": true,
     "include": true,
     "name": null,
     "option_string": "evaluate=False",
     "results": "verbatim",
     "term": false,
     "wrap": "output"
    }
   },
   "outputs": [],
   "source": [
    "# %%\n",
    "# TODO:\n",
    "# %%"
   ]
  },
  {
   "cell_type": "markdown",
   "metadata": {
    "format": "text/markdown"
   },
   "source": [
    "\n",
    "\n",
    "\n",
    "Close the door, leave work area clean\n",
    "=====================================\n"
   ]
  },
  {
   "cell_type": "code",
   "execution_count": null,
   "metadata": {
    "ExecuteTime": {
     "end_time": "2020-03-09T13:25:02.615664Z",
     "start_time": "2020-03-09T13:25:02.216564Z"
    }
   },
   "outputs": [],
   "source": [
    "spark.stop()"
   ]
  }
 ],
 "metadata": {
  "kernel_info": {
   "name": "python3"
  },
  "kernelspec": {
   "display_name": "Python 3",
   "language": "python",
   "name": "python3"
  },
  "language_info": {
   "codemirror_mode": {
    "name": "ipython",
    "version": 3
   },
   "file_extension": ".py",
   "mimetype": "text/x-python",
   "name": "python",
   "nbconvert_exporter": "python",
   "pygments_lexer": "ipython3",
   "version": "3.7.5"
  },
  "toc": {
   "base_numbering": 1,
   "nav_menu": {},
   "number_sections": true,
   "sideBar": true,
   "skip_h1_title": false,
   "title_cell": "Table of Contents",
   "title_sidebar": "Contents",
   "toc_cell": false,
   "toc_position": {},
   "toc_section_display": true,
   "toc_window_display": false
  }
 },
 "nbformat": 4,
 "nbformat_minor": 1
}
